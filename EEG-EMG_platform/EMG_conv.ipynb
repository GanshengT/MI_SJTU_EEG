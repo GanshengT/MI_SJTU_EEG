{
 "cells": [
  {
   "cell_type": "code",
   "execution_count": 1,
   "metadata": {},
   "outputs": [
    {
     "name": "stdout",
     "output_type": "stream",
     "text": [
      "Chekcpoint saved\n"
     ]
    }
   ],
   "source": [
    "import torch\n",
    "from torch.autograd import Variable\n",
    "from torch.optim import Adam\n",
    "from torch import nn\n",
    "from torch.utils.data import Dataset\n",
    "import torch.utils.data.dataloader as DataLoader\n",
    "from torchvision import transforms\n",
    "from PIL import Image    \n",
    "import os\n",
    "import copy\n",
    "import numpy as np\n",
    "transform = transforms.Compose([ transforms.ToTensor()])#,transforms.Normalize(mean=(0.5), std=(0.5)) \n",
    "\n",
    "\n",
    "class MyDataSet(Dataset):\n",
    "    def __init__(self, transform,update_dataset=False):\n",
    "\n",
    "        dataset_path = 'D:\\Data\\EMG_array'\n",
    "        self.sample_list = list()\n",
    "\n",
    "        f = open(dataset_path + '\\labels.txt')\n",
    "        lines = f.readlines()\n",
    "        for line in lines:\n",
    "            self.sample_list.append(line.strip().split(\"\\\\\")[5])\n",
    "        f.close()\n",
    "\n",
    "        imgs=self.sample_list\n",
    "        \n",
    "        self.imgs=[os.path.join(dataset_path,k) for k in imgs]\n",
    "        self.transforms=transform\n",
    "        \n",
    "    def __getitem__(self, index):\n",
    "        item = self.imgs[index]\n",
    "        \n",
    "        pil_img = Image.open(item.split(' _')[0])\n",
    "        if self.transforms:\n",
    "                data = self.transforms(pil_img)\n",
    "                #data = data.unsqueeze(0)\n",
    "        else:\n",
    "                pil_img = np.asarray(pil_img)\n",
    "                data = torch.from_numpy(pil_img)\n",
    "                #data = data.unsqueeze(0)\n",
    "        #label = [1  if i+1==int(item.split(' _')[-1]) else 0 for i in range(4)]   \n",
    "        label =int(item.split(' _')[-1])-1\n",
    "        label_tensor=torch.from_numpy(np.array(np.float32(label)))\n",
    "\n",
    "        data, label_tensor = Variable(data).cuda(), Variable(label_tensor).cuda()\n",
    "        return data, label_tensor\n",
    " \n",
    "    def __len__(self):\n",
    "        return len(self.sample_list)\n",
    "    \n",
    "class testNet(nn.Module):\n",
    "    def __init__(self, num_classes=4):\n",
    "        super(testNet, self).__init__()\n",
    "        #    1  \n",
    "        self.BN1 = nn.BatchNorm2d(1)\n",
    "        self.conv1 = nn.Conv2d(1,64,kernel_size=3,stride=1,padding=0)\n",
    "        self.relu1 = nn.ReLU()\n",
    "        #    2  \n",
    "        self.BN2 = nn.BatchNorm2d(64)\n",
    "        self.conv2 = nn.Conv2d(64,64,kernel_size=3,stride=1,padding=0)\n",
    "        self.relu2 = nn.ReLU()\n",
    "        #    3  \n",
    "        self.lc1=nn.Conv2d(64,64,kernel_size=1,stride=1)##LocallyConnected2d\n",
    "        self.relu3 = nn.ReLU()\n",
    "        #    4  \n",
    "        self.lc2=nn.Conv2d(64,64,kernel_size=1,stride=1)##LocallyConnected2d\n",
    "        self.relu4 = nn.ReLU()\n",
    "        self.pool1 = torch.nn.MaxPool2d(kernel_size=2, stride=2, padding=0) #Max-pool\n",
    "        #    5  \n",
    "        self.lin1=nn.Linear(64*2*6,512)\n",
    "        self.relu5 = nn.ReLU()\n",
    "        self.dp5 = nn.Dropout()\n",
    "        #    6  \n",
    "        self.lin2=nn.Linear(512,512)\n",
    "        self.relu6 = nn.ReLU()\n",
    "        self.dp6 =nn.Dropout()\n",
    "        #    7  \n",
    "        self.lin3=nn.Linear(512,128)\n",
    "        self.relu7 = nn.ReLU()\n",
    "        #    8  \n",
    "        self.lin4=nn.Linear(128,4)\n",
    "        self.sm1 = nn.Softmax()\n",
    "        \n",
    "        # flatten operation is needed\n",
    "    def forward(self,x):\n",
    "        #1\n",
    "        out = self.BN1(x)\n",
    "        \n",
    "        out = self.conv1(x)\n",
    "        \n",
    "        out = self.relu1(out)\n",
    "        \n",
    "        #2       \n",
    "        out = self.BN2(out)\n",
    "        out = self.conv2(out)\n",
    "        \n",
    "        out = self.relu2(out)\n",
    "        #3       \n",
    "        out = self.lc1(out)\n",
    "        out = self.relu3(out)\n",
    "        #4        \n",
    "        out = self.lc2(out)\n",
    "        out = self.relu4(out)\n",
    "        \n",
    "        out = self.pool1(out)\n",
    "        out=out.flatten()\n",
    "        \n",
    "        #5       \n",
    "        out = self.lin1(out)\n",
    "        out = self.relu5(out)\n",
    "        out = self.dp5(out)\n",
    "        #6        \n",
    "        out = self.lin2(out)\n",
    "        out = self.relu6(out)\n",
    "        out = self.dp6(out)\n",
    "        #7        \n",
    "        out = self.lin3(out)\n",
    "        out = self.relu7(out)\n",
    "        #8        \n",
    "        out = self.lin4(out)\n",
    "        out = self.sm1(out)\n",
    "        out = out.unsqueeze(0)\n",
    "        return out     \n",
    "    \n",
    "\n",
    "\n",
    "\n",
    "\n",
    "\n",
    "cuda_avail = torch.cuda.is_available()\n",
    "model = testNet().cuda(0)\n",
    "model.cuda(0)\n",
    "if cuda_avail:\n",
    "    model.cuda(0)\n",
    "\n",
    "convNNs_init = copy.deepcopy(model)\n",
    "optimizer = Adam(model.parameters(), lr=0.001, weight_decay=0.0001)\n",
    "loss_fn = nn.CrossEntropyLoss()\n",
    "\n",
    "\n",
    "def adjust_learning_rate(epoch):\n",
    "    lr = 0.001\n",
    " \n",
    "    if epoch > 180:\n",
    "        lr = lr / 1000000\n",
    "    elif epoch > 150:\n",
    "        lr = lr / 100000\n",
    "    elif epoch > 120:\n",
    "        lr = lr / 10000\n",
    "    elif epoch > 90:\n",
    "        lr = lr / 1000\n",
    "    elif epoch > 60:\n",
    "        lr = lr / 100\n",
    "    elif epoch > 30:\n",
    "        lr = lr / 10\n",
    " \n",
    "    for param_group in optimizer.param_groups:\n",
    "        param_group[\"lr\"] = lr\n",
    "\n",
    "\n",
    "\n",
    "def save_models(epoch):\n",
    "    torch.save(model.state_dict(), \"emgConvNNs_{}.model\".format(epoch))\n",
    "print(\"Chekcpoint saved\")\n",
    " \n",
    "def test():\n",
    "    model.eval()\n",
    "    test_acc = 0.0\n",
    "    for i, (images, labels) in enumerate(test_loader):\n",
    " \n",
    "        if cuda_avail:\n",
    "            images = Variable(images.cuda(0))\n",
    "            labels = Variable(labels.cuda(0))\n",
    " \n",
    "        # Predict classes using images from the test set\n",
    "        outputs = model(images)\n",
    "        prediction = (outputs.data[0]==torch.max(outputs.data)).nonzero()\n",
    "        test_acc += torch.sum(prediction == labels.data)\n",
    " \n",
    "    # Compute the average acc and loss over all 10000 test images\n",
    "    test_acc = test_acc / 200\n",
    "    return test_acc\n",
    "\n",
    "\n",
    "def train(num_epochs):\n",
    "    best_acc = 0.0\n",
    " \n",
    "    for epoch in range(num_epochs):\n",
    "        model.train()\n",
    "        train_acc = 0.0\n",
    "        train_loss = 0.0\n",
    "        for i, (images, labels) in enumerate(train_loader):\n",
    "\n",
    "            if cuda_avail:\n",
    "                images = Variable(images.cuda(0))\n",
    "                labels = Variable(labels.cuda(0))\n",
    " \n",
    "            optimizer.zero_grad()\n",
    "            outputs = model(images).cuda(0)\n",
    "#             print('outputs',outputs.data)\n",
    "#             print('outputs.size',outputs.size())\n",
    "#             print('labels.long()',labels.long())\n",
    "#             import pdb; pdb.set_trace()\n",
    "            loss = loss_fn(outputs, labels.long())\n",
    "\n",
    "            loss.backward()\n",
    " \n",
    "\n",
    "            optimizer.step()\n",
    " \n",
    "            train_loss += loss.data * images.size(0)\n",
    "            #prediction =np.array([ 1 if outputs[0][i]==torch.max(outputs.data) else 0 for i in range(4)])\n",
    "            prediction = (outputs.data[0]==torch.max(outputs.data)).nonzero()\n",
    "#             import pdb; pdb.set_trace()\n",
    "            train_acc += torch.sum(prediction == labels.data)\n",
    "#             print(train_acc)\n",
    " \n",
    "\n",
    "        adjust_learning_rate(epoch)\n",
    " \n",
    "\n",
    "        train_acc = train_acc / 200\n",
    "        train_loss = train_loss / 200\n",
    " \n",
    "\n",
    "        test_acc = test()\n",
    " \n",
    "\n",
    "        if test_acc > best_acc:\n",
    "            save_models(epoch)\n",
    "            best_acc = test_acc\n",
    " \n",
    "\n",
    "        print(\"Epoch {}, Train Accuracy: {} , TrainLoss: {} , Test Accuracy: {}\".format(epoch, train_acc, train_loss,test_acc))\n"
   ]
  },
  {
   "cell_type": "code",
   "execution_count": 4,
   "metadata": {},
   "outputs": [
    {
     "name": "stderr",
     "output_type": "stream",
     "text": [
      "d:\\software\\1python3.75amd64\\envs\\eegemg\\lib\\site-packages\\ipykernel_launcher.py:124: UserWarning: Implicit dimension choice for softmax has been deprecated. Change the call to include dim=X as an argument.\n"
     ]
    },
    {
     "name": "stdout",
     "output_type": "stream",
     "text": [
      "Epoch 0, Train Accuracy: 79.22000122070312 , TrainLoss: 263.9008483886719 , Test Accuracy: 77.93999481201172\n",
      "Epoch 1, Train Accuracy: 63.13999938964844 , TrainLoss: 285.5683898925781 , Test Accuracy: 50.73999786376953\n",
      "Epoch 2, Train Accuracy: 63.79999923706055 , TrainLoss: 281.9374694824219 , Test Accuracy: 56.34000015258789\n",
      "Epoch 3, Train Accuracy: 54.57999801635742 , TrainLoss: 290.8388977050781 , Test Accuracy: 53.71999740600586\n",
      "Epoch 4, Train Accuracy: 69.43999481201172 , TrainLoss: 278.267578125 , Test Accuracy: 71.47999572753906\n"
     ]
    }
   ],
   "source": [
    "import random\n",
    "if __name__ == '__main__':\n",
    "    dataset = MyDataSet(transform)\n",
    "\n",
    "#     trainset = torch.utils.data.Subset(dataset,np.arange(100,200))\n",
    "#     testset = torch.utils.data.Subset(dataset,np.arange(500,600))\n",
    "\n",
    "    ids = np.arange(start = 0,stop = 20000)\n",
    "    np.random.shuffle(ids)\n",
    "    train_ids,test_ids = np.array_split(ids,2)\n",
    "    trainset = torch.utils.data.Subset(dataset,train_ids)\n",
    "    testset = torch.utils.data.Subset(dataset,test_ids)\n",
    "    train_loader  = DataLoader.DataLoader(trainset,batch_size= 1, shuffle = False, num_workers= 0)\n",
    "    test_loader  = DataLoader.DataLoader(testset,batch_size= 1, shuffle = False, num_workers= 0)\n",
    "\n",
    "    train(5)\n",
    "    convNNs_final = copy.deepcopy(model)"
   ]
  },
  {
   "cell_type": "markdown",
   "metadata": {},
   "source": [
    "# Model loss landscapes visualization"
   ]
  },
  {
   "cell_type": "code",
   "execution_count": 31,
   "metadata": {},
   "outputs": [
    {
     "name": "stderr",
     "output_type": "stream",
     "text": [
      "d:\\software\\1python3.75amd64\\envs\\eegemg\\lib\\site-packages\\ipykernel_launcher.py:125: UserWarning: Implicit dimension choice for softmax has been deprecated. Change the call to include dim=X as an argument.\n"
     ]
    },
    {
     "name": "stdout",
     "output_type": "stream",
     "text": [
      "Epoch 0, Train Accuracy: 0.6850000023841858 , TrainLoss: 2.6615805625915527 , Test Accuracy: 0.5450000166893005\n"
     ]
    },
    {
     "data": {
      "image/png": "[encoded data removed]",
      "text/plain": [
       "<Figure size 432x288 with 1 Axes>"
      ]
     },
     "metadata": {
      "needs_background": "light"
     },
     "output_type": "display_data"
    }
   ],
   "source": [
    "import loss_landscapes\n",
    "import loss_landscapes.metrics\n",
    "import matplotlib.pyplot as plt\n",
    "%matplotlib inline\n",
    "\n",
    "ids = np.arange(start = 0,stop = 20000)\n",
    "np.random.shuffle(ids)\n",
    "train_ids,test_ids = np.array_split(ids,2)\n",
    "trainset = torch.utils.data.Subset(dataset,np.random.choice(train_ids,400))\n",
    "testset = torch.utils.data.Subset(dataset,np.random.choice(test_ids,400))\n",
    "train_loader  = DataLoader.DataLoader(trainset,batch_size= 1, shuffle = False, num_workers= 0)\n",
    "test_loader  = DataLoader.DataLoader(testset,batch_size= 1, shuffle = False, num_workers= 0)\n",
    "\n",
    "train(1)\n",
    "convNNs_final = copy.deepcopy(model)\n",
    "\n",
    "X_1,y_1 = iter(train_loader).__next__()\n",
    "# X_1 = X_1.long()\n",
    "# y_1 = y_1.long()\n",
    "criterion = torch.nn.MSELoss()\n",
    "metric = loss_landscapes.metrics.Loss(criterion, X_1, y_1)\n",
    "\n",
    "# compute loss data\n",
    "steps=80\n",
    "loss_data = loss_landscapes.linear_interpolation(convNNs_init, convNNs_final, metric, steps, deepcopy_model=True)\n",
    "\n",
    "plt.plot([1/steps * i for i in range(steps)], loss_data)\n",
    "plt.title('Linear Interpolation of Loss')\n",
    "plt.xlabel('Interpolation Coefficient')\n",
    "plt.ylabel('Loss')\n",
    "axes = plt.gca()\n",
    "# axes.set_ylim([2.300,2.325])\n",
    "plt.show()"
   ]
  },
  {
   "cell_type": "code",
   "execution_count": 32,
   "metadata": {},
   "outputs": [
    {
     "name": "stderr",
     "output_type": "stream",
     "text": [
      "d:\\software\\1python3.75amd64\\envs\\eegemg\\lib\\site-packages\\ipykernel_launcher.py:125: UserWarning: Implicit dimension choice for softmax has been deprecated. Change the call to include dim=X as an argument.\n"
     ]
    },
    {
     "name": "stdout",
     "output_type": "stream",
     "text": [
      "Epoch 0, Train Accuracy: 1.59499990940094 , TrainLoss: 5.179633617401123 , Test Accuracy: 1.8700000047683716\n"
     ]
    },
    {
     "data": {
      "image/png": "[encoded data removed]",
      "text/plain": [
       "<Figure size 432x288 with 1 Axes>"
      ]
     },
     "metadata": {
      "needs_background": "light"
     },
     "output_type": "display_data"
    }
   ],
   "source": [
    "import loss_landscapes\n",
    "import loss_landscapes.metrics\n",
    "import matplotlib.pyplot as plt\n",
    "%matplotlib inline\n",
    "\n",
    "ids = np.arange(start = 0,stop = 20000)\n",
    "np.random.shuffle(ids)\n",
    "train_ids,test_ids = np.array_split(ids,2)\n",
    "trainset = torch.utils.data.Subset(dataset,np.random.choice(train_ids,800))\n",
    "testset = torch.utils.data.Subset(dataset,np.random.choice(test_ids,800))\n",
    "train_loader  = DataLoader.DataLoader(trainset,batch_size= 1, shuffle = False, num_workers= 0)\n",
    "test_loader  = DataLoader.DataLoader(testset,batch_size= 1, shuffle = False, num_workers= 0)\n",
    "\n",
    "train(1)\n",
    "convNNs_final = copy.deepcopy(model)\n",
    "\n",
    "X_1,y_1 = iter(train_loader).__next__()\n",
    "# X_1 = X_1.long()\n",
    "# y_1 = y_1.long()\n",
    "criterion = torch.nn.MSELoss()\n",
    "metric = loss_landscapes.metrics.Loss(criterion, X_1, y_1)\n",
    "\n",
    "# compute loss data\n",
    "steps=80\n",
    "loss_data = loss_landscapes.linear_interpolation(convNNs_init, convNNs_final, metric, steps, deepcopy_model=True)\n",
    "\n",
    "plt.plot([1/steps * i for i in range(steps)], loss_data)\n",
    "plt.title('Linear Interpolation of Loss')\n",
    "plt.xlabel('Interpolation Coefficient')\n",
    "plt.ylabel('Loss')\n",
    "axes = plt.gca()\n",
    "# axes.set_ylim([2.300,2.325])\n",
    "plt.show()"
   ]
  },
  {
   "cell_type": "code",
   "execution_count": 33,
   "metadata": {},
   "outputs": [
    {
     "name": "stderr",
     "output_type": "stream",
     "text": [
      "d:\\software\\1python3.75amd64\\envs\\eegemg\\lib\\site-packages\\ipykernel_launcher.py:125: UserWarning: Implicit dimension choice for softmax has been deprecated. Change the call to include dim=X as an argument.\n"
     ]
    },
    {
     "name": "stdout",
     "output_type": "stream",
     "text": [
      "Epoch 0, Train Accuracy: 8.519999504089355 , TrainLoss: 26.256425857543945 , Test Accuracy: 6.029999732971191\n"
     ]
    },
    {
     "data": {
      "image/png": "[encoded data removed]",
      "text/plain": [
       "<Figure size 432x288 with 1 Axes>"
      ]
     },
     "metadata": {
      "needs_background": "light"
     },
     "output_type": "display_data"
    }
   ],
   "source": [
    "import loss_landscapes\n",
    "import loss_landscapes.metrics\n",
    "import matplotlib.pyplot as plt\n",
    "%matplotlib inline\n",
    "\n",
    "ids = np.arange(start = 0,stop = 20000)\n",
    "np.random.shuffle(ids)\n",
    "train_ids,test_ids = np.array_split(ids,2)\n",
    "trainset = torch.utils.data.Subset(dataset,np.random.choice(train_ids,4000))\n",
    "testset = torch.utils.data.Subset(dataset,np.random.choice(test_ids,4000))\n",
    "train_loader  = DataLoader.DataLoader(trainset,batch_size= 1, shuffle = False, num_workers= 0)\n",
    "test_loader  = DataLoader.DataLoader(testset,batch_size= 1, shuffle = False, num_workers= 0)\n",
    "\n",
    "train(1)\n",
    "convNNs_final = copy.deepcopy(model)\n",
    "\n",
    "X_1,y_1 = iter(train_loader).__next__()\n",
    "# X_1 = X_1.long()\n",
    "# y_1 = y_1.long()\n",
    "criterion = torch.nn.MSELoss()\n",
    "metric = loss_landscapes.metrics.Loss(criterion, X_1, y_1)\n",
    "\n",
    "# compute loss data\n",
    "steps=80\n",
    "loss_data = loss_landscapes.linear_interpolation(convNNs_init, convNNs_final, metric, steps, deepcopy_model=True)\n",
    "\n",
    "plt.plot([1/steps * i for i in range(steps)], loss_data)\n",
    "plt.title('Linear Interpolation of Loss')\n",
    "plt.xlabel('Interpolation Coefficient')\n",
    "plt.ylabel('Loss')\n",
    "axes = plt.gca()\n",
    "# axes.set_ylim([2.300,2.325])\n",
    "plt.show()"
   ]
  },
  {
   "cell_type": "code",
   "execution_count": 4,
   "metadata": {},
   "outputs": [
    {
     "name": "stderr",
     "output_type": "stream",
     "text": [
      "d:\\software\\1python3.75amd64\\envs\\eegemg\\lib\\site-packages\\ipykernel_launcher.py:123: UserWarning: Implicit dimension choice for softmax has been deprecated. Change the call to include dim=X as an argument.\n"
     ]
    },
    {
     "name": "stdout",
     "output_type": "stream",
     "text": [
      "Epoch 0, Train Accuracy: 0.2800000011920929 , TrainLoss: 1.4636657238006592 , Test Accuracy: 0.29499998688697815\n",
      "Epoch 1, Train Accuracy: 0.26999998092651367 , TrainLoss: 1.3988516330718994 , Test Accuracy: 0.2199999988079071\n",
      "Epoch 2, Train Accuracy: 0.28999999165534973 , TrainLoss: 1.3655385971069336 , Test Accuracy: 0.2849999964237213\n",
      "Epoch 3, Train Accuracy: 0.35499998927116394 , TrainLoss: 1.3721470832824707 , Test Accuracy: 0.3149999976158142\n",
      "Epoch 4, Train Accuracy: 0.3799999952316284 , TrainLoss: 1.330919623374939 , Test Accuracy: 0.3700000047683716\n"
     ]
    },
    {
     "data": {
      "image/png": "[encoded data removed]",
      "text/plain": [
       "<Figure size 432x288 with 1 Axes>"
      ]
     },
     "metadata": {
      "needs_background": "light"
     },
     "output_type": "display_data"
    }
   ],
   "source": [
    "import loss_landscapes\n",
    "import loss_landscapes.metrics\n",
    "import matplotlib.pyplot as plt\n",
    "%matplotlib inline\n",
    "\n",
    "dataset = MyDataSet(transform)\n",
    "ids = np.arange(start = 0,stop = 20000)\n",
    "np.random.shuffle(ids)\n",
    "train_ids,test_ids = np.array_split(ids,2)\n",
    "trainset = torch.utils.data.Subset(dataset,np.random.choice(train_ids,200))\n",
    "testset = torch.utils.data.Subset(dataset,np.random.choice(test_ids,200))\n",
    "train_loader  = DataLoader.DataLoader(trainset,batch_size= 1, shuffle = False, num_workers= 0)\n",
    "test_loader  = DataLoader.DataLoader(testset,batch_size= 1, shuffle = False, num_workers= 0)\n",
    "\n",
    "train(5)\n",
    "convNNs_final = copy.deepcopy(model)\n",
    "\n",
    "X_1,y_1 = iter(train_loader).__next__()\n",
    "# X_1 = X_1.long()\n",
    "# y_1 = y_1.long()\n",
    "criterion = torch.nn.MSELoss()\n",
    "metric = loss_landscapes.metrics.Loss(criterion, X_1, y_1)\n",
    "\n",
    "# compute loss data\n",
    "steps=80\n",
    "loss_data = loss_landscapes.linear_interpolation(convNNs_init, convNNs_final, metric, steps, deepcopy_model=True)\n",
    "\n",
    "plt.plot([1/steps * i for i in range(steps)], loss_data)\n",
    "plt.title('Linear Interpolation of Loss')\n",
    "plt.xlabel('Interpolation Coefficient')\n",
    "plt.ylabel('Loss')\n",
    "axes = plt.gca()\n",
    "# axes.set_ylim([2.300,2.325])\n",
    "plt.show()"
   ]
  },
  {
   "cell_type": "code",
   "execution_count": 5,
   "metadata": {},
   "outputs": [
    {
     "name": "stdout",
     "output_type": "stream",
     "text": [
      "1 layer torch.Size([1])\n",
      "2 layer torch.Size([1])\n",
      "3 layer torch.Size([64, 1, 3, 3])\n",
      "4 layer torch.Size([64])\n",
      "5 layer torch.Size([64])\n",
      "6 layer torch.Size([64])\n",
      "7 layer torch.Size([64, 64, 3, 3])\n",
      "8 layer torch.Size([64])\n",
      "9 layer torch.Size([64, 64, 1, 1])\n",
      "10 layer torch.Size([64])\n",
      "11 layer torch.Size([64, 64, 1, 1])\n",
      "12 layer torch.Size([64])\n",
      "13 layer torch.Size([512, 768])\n",
      "14 layer torch.Size([512])\n",
      "15 layer torch.Size([512, 512])\n",
      "16 layer torch.Size([512])\n",
      "17 layer torch.Size([128, 512])\n",
      "18 layer torch.Size([128])\n",
      "19 layer torch.Size([4, 128])\n",
      "20 layer torch.Size([4])\n"
     ]
    }
   ],
   "source": [
    "from torchsummary import summary\n",
    "def get_weights(net):            return [p.data for p in net.parameters()]\n",
    "def get_random_weights(weights): return [torch.randn(w.size()) for w in weights]\n",
    "def normalize_direction(direction, weights,norm='filter'):\n",
    "    if norm == 'filter':\n",
    "        # Rescale the filters (weights in group) in 'direction' so that each filter has the same norm as its corresponding filter in 'weights'.\n",
    "        for d, w in zip(direction, weights): \n",
    "            # the direction channel gets norm via the channel\n",
    "            d.mul_(w.norm()/(d.norm() + 1e-10))\n",
    "\n",
    "    elif norm == 'layer':\n",
    "        # Rescale the layer variables in the direction so that each layer has the same norm as the layer variables in weights.\n",
    "        direction.mul_(weights.norm()/direction.norm())\n",
    "\n",
    "    elif norm == 'weight':\n",
    "        # Rescale the entries in the direction so that each entry has the same scale as the corresponding weight.\n",
    "        direction.mul_(weights.cpu())\n",
    "\n",
    "    elif norm == 'dfilter':\n",
    "        # Rescale the entries in the direction so that each filter direction has the unit norm.\n",
    "        for d in direction: \n",
    "            d.div_(d.norm() + 1e-10)\n",
    "\n",
    "    elif norm == 'dlayer':\n",
    "        # Rescale the entries in the direction so that each layer direction has the unit norm.\n",
    "        direction.div_(direction.norm())\n",
    "weight      = get_weights(model)\n",
    "temp_layer  = 0\n",
    "for x in weight: \n",
    "    temp_layer = temp_layer + 1\n",
    "    print(str(temp_layer) + \" layer \" + str(x.shape))"
   ]
  },
  {
   "cell_type": "code",
   "execution_count": 6,
   "metadata": {},
   "outputs": [],
   "source": [
    "converged_weights = get_weights(convNNs_final)\n",
    "import chart_studio.plotly as py\n",
    "import plotly.graph_objs as go\n",
    "def viz_histogram_weights(converged_weights, direction1,direction2,title=\"None\"):\n",
    "    plt.figure(figsize=(55,55//9))\n",
    "    plt.suptitle(title, fontsize=20, y=1.15)\n",
    "    for layer_index in range(len(converged_weights)):\n",
    "        plt.subplot(1,20,layer_index+1)\n",
    "        plt.title(\"Layer : \" + str(layer_index))\n",
    "        plt.hist(converged_weights[layer_index].cpu().numpy().ravel(),50,alpha=0.6,label='Weight')\n",
    "        plt.hist(direction1[layer_index].cpu().numpy().ravel(),50,alpha=0.2,label='Direction 1')\n",
    "        plt.hist(direction2[layer_index].cpu().numpy().ravel(),50,alpha=0.2,label='Direction 2')\n",
    "        plt.yticks([])\n",
    "        plt.legend()\n",
    "    plt.show()\n",
    "def create_viz(loss_list,acc_list,title=\"none\"):\n",
    "    \n",
    "    # plot the loss functions\n",
    "    plt.figure(figsize=(18,6))\n",
    "    plt.subplot(131)\n",
    "    plt.title(\"Original Contour\")\n",
    "    CS = plt.contour(xcoord_mesh, ycoord_mesh, loss_list,  10, zorder=1, cmap='terrain', linestyles='--')\n",
    "    plt.clabel(CS, inline=1, fontsize=8)\n",
    "\n",
    "    plt.subplot(132)\n",
    "    plt.title(\"Original Contour with Color\")\n",
    "    plt.contour(xcoord_mesh, ycoord_mesh, loss_list,  10, zorder=1, cmap='terrain', linestyles='--')\n",
    "    CS = plt.contourf(xcoord_mesh, ycoord_mesh, loss_list, 10, zorder=1, cmap='terrain', linestyles='--')   \n",
    "    plt.clabel(CS, fontsize=12,inline=0,fmt = '%2.1f')\n",
    "    plt.colorbar(CS)\n",
    "\n",
    "    plt.subplot(133)\n",
    "    plt.title(\"Log Scale\")\n",
    "    CS = plt.contour(xcoord_mesh, ycoord_mesh, np.log(loss_list+1e-8),10,zorder=1, cmap='terrain', linestyles='--'); \n",
    "    plt.clabel(CS, fontsize=8,inline=1)\n",
    "\n",
    "    plt.savefig(title)\n",
    "    plt.show()\n",
    "    \n",
    "    data = [\n",
    "        go.Surface(\n",
    "            x=xcoord_mesh,y=ycoord_mesh,\n",
    "            z=(loss_list.max()-loss_list.min())*(acc_list-acc_list.min())/(acc_list.max()-acc_list.min()+1e-8)+loss_list.min(),\n",
    "            showscale=False, opacity=0.6,colorscale='Cividis',\n",
    "        ),\n",
    "        go.Surface(\n",
    "            x=xcoord_mesh,y=ycoord_mesh,z=loss_list,colorscale='Jet',opacity=0.9,\n",
    "            contours=go.surface.Contours(z=go.surface.contours.Z(show=True,usecolormap=True,project=dict(z=True),),\n",
    "            )\n",
    "        )\n",
    "    ]\n",
    "    layout = go.Layout(title='Loss / Accuracy',autosize=True,scene=dict(camera=dict(eye=dict(x=1.87, y=0.88, z=-0.64))),margin=dict(l=65,r=50,b=65,t=90))\n",
    "    fig    = go.Figure(data=data,layout=layout); iplot(fig); plt.show()\n",
    "\n",
    "    data = [\n",
    "        go.Surface(\n",
    "            x=xcoord_mesh,y=ycoord_mesh,\n",
    "            z=(np.log(loss_list).max()-np.log(loss_list).min())*(acc_list-acc_list.min())/(acc_list.max()-acc_list.min()+1e-8)+np.log(loss_list).min(),\n",
    "            showscale=False, opacity=0.6,colorscale='Cividis',\n",
    "        ),\n",
    "        go.Surface(\n",
    "            x=xcoord_mesh,y=ycoord_mesh,z=np.log(loss_list),colorscale='Jet',opacity=0.9,\n",
    "            contours=go.surface.Contours(z=go.surface.contours.Z(show=True,usecolormap=True,project=dict(z=True),),\n",
    "            )\n",
    "        )\n",
    "    ]\n",
    "    layout = go.Layout(title='Log Scale Loss / Accuracy',autosize=True,scene=dict(camera=dict(eye=dict(x=1.87, y=0.88, z=-0.64))),margin=dict(l=65,r=50,b=65,t=90))\n",
    "    fig    = go.Figure(data=data,layout=layout); iplot(fig); plt.show()"
   ]
  },
  {
   "cell_type": "code",
   "execution_count": 7,
   "metadata": {},
   "outputs": [
    {
     "name": "stdout",
     "output_type": "stream",
     "text": [
      "From  -1.0  to  1.0  with  21  total number of coordinate:  441\n",
      "True\n",
      "True\n",
      "True\n",
      "False\n",
      "False\n",
      "False\n",
      "True\n",
      "False\n",
      "True\n",
      "False\n",
      "True\n",
      "False\n",
      "False\n",
      "False\n",
      "False\n",
      "False\n",
      "False\n",
      "False\n",
      "False\n",
      "False\n",
      "True\n",
      "True\n",
      "True\n",
      "False\n",
      "False\n",
      "False\n",
      "True\n",
      "False\n",
      "True\n",
      "False\n",
      "True\n",
      "False\n",
      "False\n",
      "False\n",
      "False\n",
      "False\n",
      "False\n",
      "False\n",
      "False\n",
      "False\n"
     ]
    },
    {
     "data": {
      "image/png": "[encoded data removed]",
      "text/plain": [
       "<Figure size 3960x432 with 20 Axes>"
      ]
     },
     "metadata": {
      "needs_background": "light"
     },
     "output_type": "display_data"
    }
   ],
   "source": [
    "# create the coordinates\n",
    "# import tensorflow as tf\n",
    "numebr_of_points = 21 ; small_range = -1.0 ; large_range =  1.0\n",
    "\n",
    "xcoordinates = np.linspace(small_range, large_range, num=numebr_of_points) \n",
    "ycoordinates = np.linspace(small_range, large_range, num=numebr_of_points) \n",
    "\n",
    "xcoord_mesh, ycoord_mesh = np.meshgrid(xcoordinates, ycoordinates)\n",
    "inds = np.array(range(numebr_of_points**2))\n",
    "s1   = xcoord_mesh.ravel()[inds]\n",
    "s2   = ycoord_mesh.ravel()[inds]\n",
    "coordinate = np.c_[s1,s2]\n",
    "print('From ',small_range,' to ',large_range,' with ',numebr_of_points,' total number of coordinate: ', numebr_of_points**2)\n",
    "copy_of_the_weights = [ w.clone() for w in converged_weights]\n",
    "# sess = tf.InteractiveSession()\n",
    "random_direction1 = get_random_weights(copy_of_the_weights)\n",
    "random_direction2 = [w.clone() for w in random_direction1]\n",
    "for d,w in zip(random_direction1,copy_of_the_weights):\n",
    "    normalize_direction(d,w,'filter')\n",
    "temp = []\n",
    "for d,w in zip(random_direction2,copy_of_the_weights):\n",
    "    d_re   = d.view((d.shape[0],-1))\n",
    "    d_norm = d_re.norm(dim=(1),keepdim=True)[:,:,None,None]\n",
    "    \n",
    "    w_re   = w.view((w.shape[0],-1))\n",
    "    w_norm = w_re.norm(dim=(1),keepdim=True)[:,:,None,None]\n",
    "    temp.append(d.cuda() * (w_norm.cuda()/(d_norm.cuda()+1e-10)))\n",
    "    d.data      =  d.cuda() * (w_norm.cuda()/(d_norm.cuda()+1e-10))   \n",
    "\n",
    "for x, xx in zip(random_direction1,random_direction2):\n",
    "    print(np.allclose(x.cpu().numpy(),xx.cpu().numpy()))\n",
    "    \n",
    "for x, xx in zip(random_direction1,temp):\n",
    "    print(np.allclose(x.cpu().numpy(),xx.cpu().numpy()))\n",
    "viz_histogram_weights(copy_of_the_weights,random_direction1,random_direction2)    "
   ]
  },
  {
   "cell_type": "code",
   "execution_count": 8,
   "metadata": {},
   "outputs": [
    {
     "ename": "RuntimeError",
     "evalue": "CUDA out of memory. Tried to allocate 768.00 MiB (GPU 0; 4.00 GiB total capacity; 3.34 GiB already allocated; 143.23 MiB free; 9.00 MiB cached)",
     "output_type": "error",
     "traceback": [
      "\u001b[1;31m---------------------------------------------------------------------------\u001b[0m",
      "\u001b[1;31mRuntimeError\u001b[0m                              Traceback (most recent call last)",
      "\u001b[1;32m<ipython-input-8-877bfa74be5e>\u001b[0m in \u001b[0;36m<module>\u001b[1;34m\u001b[0m\n\u001b[0;32m      7\u001b[0m     \u001b[1;31m# change the weight values\u001b[0m\u001b[1;33m\u001b[0m\u001b[1;33m\u001b[0m\u001b[1;33m\u001b[0m\u001b[0m\n\u001b[0;32m      8\u001b[0m     \u001b[0mcoord\u001b[0m   \u001b[1;33m=\u001b[0m \u001b[0mcoordinate\u001b[0m\u001b[1;33m[\u001b[0m\u001b[0mcount\u001b[0m\u001b[1;33m]\u001b[0m\u001b[1;33m\u001b[0m\u001b[1;33m\u001b[0m\u001b[0m\n\u001b[1;32m----> 9\u001b[1;33m     \u001b[0mchanges\u001b[0m \u001b[1;33m=\u001b[0m \u001b[1;33m[\u001b[0m\u001b[0md0\u001b[0m\u001b[1;33m.\u001b[0m\u001b[0mcuda\u001b[0m\u001b[1;33m(\u001b[0m\u001b[1;33m)\u001b[0m\u001b[1;33m*\u001b[0m\u001b[0mcoord\u001b[0m\u001b[1;33m[\u001b[0m\u001b[1;36m0\u001b[0m\u001b[1;33m]\u001b[0m \u001b[1;33m+\u001b[0m \u001b[0md1\u001b[0m\u001b[1;33m.\u001b[0m\u001b[0mcuda\u001b[0m\u001b[1;33m(\u001b[0m\u001b[1;33m)\u001b[0m\u001b[1;33m*\u001b[0m\u001b[0mcoord\u001b[0m\u001b[1;33m[\u001b[0m\u001b[1;36m1\u001b[0m\u001b[1;33m]\u001b[0m \u001b[1;32mfor\u001b[0m \u001b[1;33m(\u001b[0m\u001b[0md0\u001b[0m\u001b[1;33m,\u001b[0m \u001b[0md1\u001b[0m\u001b[1;33m)\u001b[0m \u001b[1;32min\u001b[0m \u001b[0mzip\u001b[0m\u001b[1;33m(\u001b[0m\u001b[0mrandom_direction1\u001b[0m\u001b[1;33m,\u001b[0m \u001b[0mrandom_direction2\u001b[0m\u001b[1;33m)\u001b[0m\u001b[1;33m]\u001b[0m\u001b[1;33m\u001b[0m\u001b[1;33m\u001b[0m\u001b[0m\n\u001b[0m\u001b[0;32m     10\u001b[0m     \u001b[1;32mfor\u001b[0m \u001b[1;33m(\u001b[0m\u001b[0mp\u001b[0m\u001b[1;33m,\u001b[0m \u001b[0mw\u001b[0m\u001b[1;33m,\u001b[0m \u001b[0md\u001b[0m\u001b[1;33m)\u001b[0m \u001b[1;32min\u001b[0m \u001b[0mzip\u001b[0m\u001b[1;33m(\u001b[0m\u001b[0mnet\u001b[0m\u001b[1;33m.\u001b[0m\u001b[0mparameters\u001b[0m\u001b[1;33m(\u001b[0m\u001b[1;33m)\u001b[0m\u001b[1;33m,\u001b[0m \u001b[0mweight\u001b[0m\u001b[1;33m,\u001b[0m \u001b[0mchanges\u001b[0m\u001b[1;33m)\u001b[0m\u001b[1;33m:\u001b[0m \u001b[0mp\u001b[0m\u001b[1;33m.\u001b[0m\u001b[0mdata\u001b[0m \u001b[1;33m=\u001b[0m \u001b[0mw\u001b[0m \u001b[1;33m+\u001b[0m \u001b[0md\u001b[0m\u001b[1;33m\u001b[0m\u001b[1;33m\u001b[0m\u001b[0m\n\u001b[0;32m     11\u001b[0m \u001b[1;33m\u001b[0m\u001b[0m\n",
      "\u001b[1;32m<ipython-input-8-877bfa74be5e>\u001b[0m in \u001b[0;36m<listcomp>\u001b[1;34m(.0)\u001b[0m\n\u001b[0;32m      7\u001b[0m     \u001b[1;31m# change the weight values\u001b[0m\u001b[1;33m\u001b[0m\u001b[1;33m\u001b[0m\u001b[1;33m\u001b[0m\u001b[0m\n\u001b[0;32m      8\u001b[0m     \u001b[0mcoord\u001b[0m   \u001b[1;33m=\u001b[0m \u001b[0mcoordinate\u001b[0m\u001b[1;33m[\u001b[0m\u001b[0mcount\u001b[0m\u001b[1;33m]\u001b[0m\u001b[1;33m\u001b[0m\u001b[1;33m\u001b[0m\u001b[0m\n\u001b[1;32m----> 9\u001b[1;33m     \u001b[0mchanges\u001b[0m \u001b[1;33m=\u001b[0m \u001b[1;33m[\u001b[0m\u001b[0md0\u001b[0m\u001b[1;33m.\u001b[0m\u001b[0mcuda\u001b[0m\u001b[1;33m(\u001b[0m\u001b[1;33m)\u001b[0m\u001b[1;33m*\u001b[0m\u001b[0mcoord\u001b[0m\u001b[1;33m[\u001b[0m\u001b[1;36m0\u001b[0m\u001b[1;33m]\u001b[0m \u001b[1;33m+\u001b[0m \u001b[0md1\u001b[0m\u001b[1;33m.\u001b[0m\u001b[0mcuda\u001b[0m\u001b[1;33m(\u001b[0m\u001b[1;33m)\u001b[0m\u001b[1;33m*\u001b[0m\u001b[0mcoord\u001b[0m\u001b[1;33m[\u001b[0m\u001b[1;36m1\u001b[0m\u001b[1;33m]\u001b[0m \u001b[1;32mfor\u001b[0m \u001b[1;33m(\u001b[0m\u001b[0md0\u001b[0m\u001b[1;33m,\u001b[0m \u001b[0md1\u001b[0m\u001b[1;33m)\u001b[0m \u001b[1;32min\u001b[0m \u001b[0mzip\u001b[0m\u001b[1;33m(\u001b[0m\u001b[0mrandom_direction1\u001b[0m\u001b[1;33m,\u001b[0m \u001b[0mrandom_direction2\u001b[0m\u001b[1;33m)\u001b[0m\u001b[1;33m]\u001b[0m\u001b[1;33m\u001b[0m\u001b[1;33m\u001b[0m\u001b[0m\n\u001b[0m\u001b[0;32m     10\u001b[0m     \u001b[1;32mfor\u001b[0m \u001b[1;33m(\u001b[0m\u001b[0mp\u001b[0m\u001b[1;33m,\u001b[0m \u001b[0mw\u001b[0m\u001b[1;33m,\u001b[0m \u001b[0md\u001b[0m\u001b[1;33m)\u001b[0m \u001b[1;32min\u001b[0m \u001b[0mzip\u001b[0m\u001b[1;33m(\u001b[0m\u001b[0mnet\u001b[0m\u001b[1;33m.\u001b[0m\u001b[0mparameters\u001b[0m\u001b[1;33m(\u001b[0m\u001b[1;33m)\u001b[0m\u001b[1;33m,\u001b[0m \u001b[0mweight\u001b[0m\u001b[1;33m,\u001b[0m \u001b[0mchanges\u001b[0m\u001b[1;33m)\u001b[0m\u001b[1;33m:\u001b[0m \u001b[0mp\u001b[0m\u001b[1;33m.\u001b[0m\u001b[0mdata\u001b[0m \u001b[1;33m=\u001b[0m \u001b[0mw\u001b[0m \u001b[1;33m+\u001b[0m \u001b[0md\u001b[0m\u001b[1;33m\u001b[0m\u001b[1;33m\u001b[0m\u001b[0m\n\u001b[0;32m     11\u001b[0m \u001b[1;33m\u001b[0m\u001b[0m\n",
      "\u001b[1;31mRuntimeError\u001b[0m: CUDA out of memory. Tried to allocate 768.00 MiB (GPU 0; 4.00 GiB total capacity; 3.34 GiB already allocated; 143.23 MiB free; 9.00 MiB cached)"
     ]
    }
   ],
   "source": [
    "# start the evaluation\n",
    "loss_list = np.zeros((numebr_of_points,numebr_of_points)); acc_list  = np.zeros((numebr_of_points,numebr_of_points))\n",
    "col_value = 0\n",
    "\n",
    "for count, ind in enumerate(inds):\n",
    "    \n",
    "    # change the weight values\n",
    "    coord   = coordinate[count]\n",
    "    changes = [d0.cuda()*coord[0] + d1.cuda()*coord[1] for (d0, d1) in zip(random_direction1, random_direction2)]\n",
    "    for (p, w, d) in zip(net.parameters(), weight, changes): p.data = w + d\n",
    "\n",
    "    # start the evaluation\n",
    "    correct = 0; total_loss = 0; total = 0 \n",
    "    with torch.no_grad():\n",
    "        for batch_idx, (inputs, targets) in enumerate(trainloader):\n",
    "            batch_size = inputs.size(0)\n",
    "            total      = total + batch_size\n",
    "            \n",
    "            inputs, targets = Variable(inputs).cuda(),Variable(targets).cuda()\n",
    "            \n",
    "            outputs = net(inputs)\n",
    "            loss    = criterion(outputs, targets)\n",
    "            total_loss   = total_loss + loss.item()*batch_size\n",
    "            _, predicted = torch.max(outputs.data, 1)\n",
    "            correct      = correct + predicted.eq(targets).sum().item()\n",
    "            sys.stdout.write(\"Coord: \"+str(coord)+\"\\tAcc: \"+str(predicted.eq(targets).sum().item())+\"\\tLoss: \"+str(np.around(loss.item(),3))+\"\\r\")\n",
    "            sys.stdout.flush()\n",
    "            \n",
    "            if batch_idx==10: break\n",
    "            \n",
    "        if count % 2 == 0 : sys.stdout.write(\"count: \"+str(count)+\"\\tCoord: \"+str(coord)+\"\\t\\tAcc: \"+str(100.*correct/total)+\"\\tLoss: \"+str(np.around(total_loss/total,3))+\"\\n\")\n",
    "        \n",
    "    # store value \n",
    "    loss_list[col_value][ind%numebr_of_points] = total_loss/total\n",
    "    acc_list [col_value][ind%numebr_of_points] = 100.*correct/total\n",
    "    ind_compare = ind + 1\n",
    "    if ind_compare % numebr_of_points == 0 :  col_value = col_value + 1"
   ]
  },
  {
   "cell_type": "code",
   "execution_count": 35,
   "metadata": {},
   "outputs": [
    {
     "ename": "ZeroDivisionError",
     "evalue": "float division by zero",
     "output_type": "error",
     "traceback": [
      "\u001b[1;31m---------------------------------------------------------------------------\u001b[0m",
      "\u001b[1;31mZeroDivisionError\u001b[0m                         Traceback (most recent call last)",
      "\u001b[1;32m<ipython-input-35-7570bc2ab81c>\u001b[0m in \u001b[0;36m<module>\u001b[1;34m\u001b[0m\n\u001b[1;32m----> 1\u001b[1;33m \u001b[0mloss_data_fin\u001b[0m \u001b[1;33m=\u001b[0m \u001b[0mloss_landscapes\u001b[0m\u001b[1;33m.\u001b[0m\u001b[0mrandom_plane\u001b[0m\u001b[1;33m(\u001b[0m\u001b[0mconvNNs_final\u001b[0m\u001b[1;33m,\u001b[0m \u001b[0mmetric\u001b[0m\u001b[1;33m,\u001b[0m \u001b[1;36m20\u001b[0m\u001b[1;33m,\u001b[0m \u001b[0msteps\u001b[0m\u001b[1;33m,\u001b[0m \u001b[0mnormalization\u001b[0m\u001b[1;33m=\u001b[0m\u001b[1;34m'filter'\u001b[0m\u001b[1;33m,\u001b[0m \u001b[0mdeepcopy_model\u001b[0m\u001b[1;33m=\u001b[0m\u001b[1;32mTrue\u001b[0m\u001b[1;33m)\u001b[0m\u001b[1;33m\u001b[0m\u001b[1;33m\u001b[0m\u001b[0m\n\u001b[0m\u001b[0;32m      2\u001b[0m \u001b[0mplt\u001b[0m\u001b[1;33m.\u001b[0m\u001b[0mcontour\u001b[0m\u001b[1;33m(\u001b[0m\u001b[0mloss_data_fin\u001b[0m\u001b[1;33m,\u001b[0m \u001b[0mlevels\u001b[0m\u001b[1;33m=\u001b[0m\u001b[1;36m50\u001b[0m\u001b[1;33m)\u001b[0m\u001b[1;33m\u001b[0m\u001b[1;33m\u001b[0m\u001b[0m\n\u001b[0;32m      3\u001b[0m \u001b[0mplt\u001b[0m\u001b[1;33m.\u001b[0m\u001b[0mtitle\u001b[0m\u001b[1;33m(\u001b[0m\u001b[1;34m'Loss Contours around Trained Model'\u001b[0m\u001b[1;33m)\u001b[0m\u001b[1;33m\u001b[0m\u001b[1;33m\u001b[0m\u001b[0m\n\u001b[0;32m      4\u001b[0m \u001b[0mplt\u001b[0m\u001b[1;33m.\u001b[0m\u001b[0mshow\u001b[0m\u001b[1;33m(\u001b[0m\u001b[1;33m)\u001b[0m\u001b[1;33m\u001b[0m\u001b[1;33m\u001b[0m\u001b[0m\n",
      "\u001b[1;32md:\\software\\1python3.75amd64\\envs\\eegemg\\lib\\site-packages\\loss_landscapes\\main.py\u001b[0m in \u001b[0;36mrandom_plane\u001b[1;34m(model, metric, distance, steps, normalization, deepcopy_model)\u001b[0m\n\u001b[0;32m    283\u001b[0m         \u001b[0mdir_two\u001b[0m\u001b[1;33m.\u001b[0m\u001b[0mlayer_normalize_\u001b[0m\u001b[1;33m(\u001b[0m\u001b[0mstart_point\u001b[0m\u001b[1;33m)\u001b[0m\u001b[1;33m\u001b[0m\u001b[1;33m\u001b[0m\u001b[0m\n\u001b[0;32m    284\u001b[0m     \u001b[1;32melif\u001b[0m \u001b[0mnormalization\u001b[0m \u001b[1;33m==\u001b[0m \u001b[1;34m'filter'\u001b[0m\u001b[1;33m:\u001b[0m\u001b[1;33m\u001b[0m\u001b[1;33m\u001b[0m\u001b[0m\n\u001b[1;32m--> 285\u001b[1;33m         \u001b[0mdir_one\u001b[0m\u001b[1;33m.\u001b[0m\u001b[0mfilter_normalize_\u001b[0m\u001b[1;33m(\u001b[0m\u001b[0mstart_point\u001b[0m\u001b[1;33m)\u001b[0m\u001b[1;33m\u001b[0m\u001b[1;33m\u001b[0m\u001b[0m\n\u001b[0m\u001b[0;32m    286\u001b[0m         \u001b[0mdir_two\u001b[0m\u001b[1;33m.\u001b[0m\u001b[0mfilter_normalize_\u001b[0m\u001b[1;33m(\u001b[0m\u001b[0mstart_point\u001b[0m\u001b[1;33m)\u001b[0m\u001b[1;33m\u001b[0m\u001b[1;33m\u001b[0m\u001b[0m\n\u001b[0;32m    287\u001b[0m     \u001b[1;32melif\u001b[0m \u001b[0mnormalization\u001b[0m \u001b[1;32mis\u001b[0m \u001b[1;32mNone\u001b[0m\u001b[1;33m:\u001b[0m\u001b[1;33m\u001b[0m\u001b[1;33m\u001b[0m\u001b[0m\n",
      "\u001b[1;32md:\\software\\1python3.75amd64\\envs\\eegemg\\lib\\site-packages\\loss_landscapes\\model_interface\\model_parameters.py\u001b[0m in \u001b[0;36mfilter_normalize_\u001b[1;34m(self, ref_point, order)\u001b[0m\n\u001b[0;32m    227\u001b[0m             \u001b[1;31m# normalize two-dimensional weight vectors\u001b[0m\u001b[1;33m\u001b[0m\u001b[1;33m\u001b[0m\u001b[1;33m\u001b[0m\u001b[0m\n\u001b[0;32m    228\u001b[0m             \u001b[1;32mfor\u001b[0m \u001b[0mf\u001b[0m \u001b[1;32min\u001b[0m \u001b[0mrange\u001b[0m\u001b[1;33m(\u001b[0m\u001b[0mlen\u001b[0m\u001b[1;33m(\u001b[0m\u001b[0mself\u001b[0m\u001b[1;33m.\u001b[0m\u001b[0mparameters\u001b[0m\u001b[1;33m[\u001b[0m\u001b[0ml\u001b[0m\u001b[1;33m]\u001b[0m\u001b[1;33m)\u001b[0m\u001b[1;33m)\u001b[0m\u001b[1;33m:\u001b[0m\u001b[1;33m\u001b[0m\u001b[1;33m\u001b[0m\u001b[0m\n\u001b[1;32m--> 229\u001b[1;33m                 \u001b[0mself\u001b[0m\u001b[1;33m.\u001b[0m\u001b[0mparameters\u001b[0m\u001b[1;33m[\u001b[0m\u001b[0ml\u001b[0m\u001b[1;33m]\u001b[0m\u001b[1;33m[\u001b[0m\u001b[0mf\u001b[0m\u001b[1;33m]\u001b[0m \u001b[1;33m*=\u001b[0m \u001b[0mref_point\u001b[0m\u001b[1;33m.\u001b[0m\u001b[0mfilter_norm\u001b[0m\u001b[1;33m(\u001b[0m\u001b[1;33m(\u001b[0m\u001b[0ml\u001b[0m\u001b[1;33m,\u001b[0m \u001b[0mf\u001b[0m\u001b[1;33m)\u001b[0m\u001b[1;33m,\u001b[0m \u001b[0morder\u001b[0m\u001b[1;33m)\u001b[0m \u001b[1;33m/\u001b[0m \u001b[1;33m(\u001b[0m\u001b[0mself\u001b[0m\u001b[1;33m.\u001b[0m\u001b[0mfilter_norm\u001b[0m\u001b[1;33m(\u001b[0m\u001b[1;33m(\u001b[0m\u001b[0ml\u001b[0m\u001b[1;33m,\u001b[0m \u001b[0mf\u001b[0m\u001b[1;33m)\u001b[0m\u001b[1;33m,\u001b[0m \u001b[0morder\u001b[0m\u001b[1;33m)\u001b[0m\u001b[1;33m)\u001b[0m\u001b[1;33m\u001b[0m\u001b[1;33m\u001b[0m\u001b[0m\n\u001b[0m\u001b[0;32m    230\u001b[0m \u001b[1;33m\u001b[0m\u001b[0m\n\u001b[0;32m    231\u001b[0m     \u001b[1;32mdef\u001b[0m \u001b[0mmodel_norm\u001b[0m\u001b[1;33m(\u001b[0m\u001b[0mself\u001b[0m\u001b[1;33m,\u001b[0m \u001b[0morder\u001b[0m\u001b[1;33m=\u001b[0m\u001b[1;36m2\u001b[0m\u001b[1;33m)\u001b[0m \u001b[1;33m->\u001b[0m \u001b[0mfloat\u001b[0m\u001b[1;33m:\u001b[0m\u001b[1;33m\u001b[0m\u001b[1;33m\u001b[0m\u001b[0m\n",
      "\u001b[1;31mZeroDivisionError\u001b[0m: float division by zero"
     ]
    }
   ],
   "source": [
    "loss_data_fin = loss_landscapes.random_plane(convNNs_final, metric, 20, steps, normalization='filter', deepcopy_model=True)\n",
    "plt.contour(loss_data_fin, levels=50)\n",
    "plt.title('Loss Contours around Trained Model')\n",
    "plt.show()"
   ]
  },
  {
   "cell_type": "code",
   "execution_count": 38,
   "metadata": {},
   "outputs": [
    {
     "data": {
      "text/plain": [
       "tensor([0.], device='cuda:0')"
      ]
     },
     "execution_count": 38,
     "metadata": {},
     "output_type": "execute_result"
    }
   ],
   "source": [
    "metric.target"
   ]
  },
  {
   "cell_type": "code",
   "execution_count": 18,
   "metadata": {},
   "outputs": [
    {
     "data": {
      "text/plain": [
       "<torch.utils.data.dataset.Subset at 0x64723c8>"
      ]
     },
     "execution_count": 18,
     "metadata": {},
     "output_type": "execute_result"
    }
   ],
   "source": [
    "from mpl_toolkits import mplot3d\n",
    "import numpy as np\n",
    "\n",
    "fig = plt.figure()\n",
    "ax = plt.axes(projection='3d')\n",
    "X = np.array([[j for j in range(steps)] for i in range(steps)])\n",
    "Y = np.array([[i for _ in range(steps)] for i in range(steps)])\n",
    "ax.plot_surface(X, Y, loss_data_fin, rstride=1, cstride=1, cmap='viridis', edgecolor='none')\n",
    "ax.set_title('Surface Plot of Loss Landscape')\n",
    "fig.show()\n"
   ]
  }
 ],
 "metadata": {
  "kernelspec": {
   "display_name": "Python 3",
   "language": "python",
   "name": "python3"
  },
  "language_info": {
   "codemirror_mode": {
    "name": "ipython",
    "version": 3
   },
   "file_extension": ".py",
   "mimetype": "text/x-python",
   "name": "python",
   "nbconvert_exporter": "python",
   "pygments_lexer": "ipython3",
   "version": "3.7.5"
  }
 },
 "nbformat": 4,
 "nbformat_minor": 2
}

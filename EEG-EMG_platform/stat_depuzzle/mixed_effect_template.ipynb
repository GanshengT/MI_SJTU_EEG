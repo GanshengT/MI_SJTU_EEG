{
 "cells": [
  {
   "cell_type": "markdown",
   "metadata": {},
   "source": [
    "# Recent advance of the estimation of shannon's entropy, mutual information and transfer entropy\n",
    "## In this script, the shannon entropy is intepreted in detail. Estimation based on observation has been provided\n",
    "### Maximum-likelihood (ML) estimate of the discretized frequency distribution\n",
    "The empirical entropy  $H(p(\\vec{x_n}))=-\\frac{1}{n}log\\hat{p}(\\vec{x_n})$ with $\\hat{p}$ being the empirical point probabilities. It is also called plug-in universal estimator for shannon's entropy. \n",
    "$$\\hat{p(x)}=\\frac{1}{n}\\sum^n_{i=1}\\delta_x(x_i)$$ where $x_i$ is $i^{th}$ observation\n",
    "\n",
    "<mark>Where is the connection between ML and shannon's empirical entropy?:\n",
    "    if a random variable T takes only discrete values then the empirical distribution is the maximum likelihood estimator. Besides, one should notice that the functional invariance of the ML estimator.</mark>\n",
    "\n",
    "Link:https://stats.stackexchange.com/questions/28178/what-is-empirical-entropy\n",
    "\n",
    "Link:https://www.stat.tamu.edu/~suhasini/teaching613/ED.pdf -empirical distribution and the nonparametric likelihood\n",
    "\n",
    "Link: https://en.wikipedia.org/wiki/Maximum_likelihood_estimation -functional invariance\n",
    "\n",
    "Please note that in this way entropy H(x) is not bounded, $H_{max}=log\\,n$,  $log:=ln$.\n",
    "In physiological domain, $H(X)=-\\frac{\\sum^n_{i=1}f(x_i)log\\,f(x_i)}{H_{max}}$ with f(x) is the probability distribution.\n",
    "\n",
    "$$H(X)=-\\sum_{i=1}^nf(x_i)log\\,(\\frac{f(x_i)}{w(x_i)})$$\n",
    "$w_i$ is the width of the $i^{th}$ bin. \n",
    "### The drawback of ML estimator of shannon's entropy\n",
    "Brief summary:\n",
    "$$\\mathbb{E}H(P_{n})=H(P)-\\frac{S-1}{2n}+\\frac{1}{12n^{2}}(1-\\sum_{i=1}^{s}\\frac{1}{p_{i}})+O(\\frac{1}{n^{3}}) $$.\n",
    "S is the support size, that is, the number of discretized bins. n is the number of samples. Accurately, $H_{max}=log\\,S$. From this equation, we can see that $\\sum_{i=1}^S\\frac{1}{p_i}$ can be arbitarily large. Also, the estimator is significantly biased when S is close to n.\n",
    "\n",
    "Major refs:https://ieeexplore.ieee.org/document/7282573\n",
    "\n",
    "### Here comes the Miller-Madow bias-corrected ($H^{MM}(X)$)\n",
    "$$H^{\\text{MM}}(P_{n})=H(P_{n})+\\displaystyle \\frac{S-1}{2n}$$\n",
    "### Other estimations include sample-spacings, nearest-neighbours, bayesian estimator, Nemenman, Shafee and Bialek (NSB estimator)\n",
    "### Conclusion\n",
    "$H^{MM}$ is a pratical and suffiently accurate estimator. (evidences can be found below)\n",
    "## Conditional entropy\n",
    "The conditional entropy (or equivocation) quantifies the amount of information needed to describe the outcome of a random variable ${\\displaystyle Y}$ given that the value of another random variable ${\\displaystyle X}$ is known.\n",
    "![Image of Yaktocat](http://fourier.eng.hmc.edu/e176/lectures/figures/mutual_info.gif)\n",
    "$$\\mathrm {H} (Y|X)\\ =-\\sum _{x\\in {\\mathcal {X}},y\\in {\\mathcal {Y}}}p(x,y)\\log {\\frac {p(x,y)}{p(x)}}$$\n",
    "This can be interpreted as the arithmetic mean of a large number of independent relizations of $-ln(p(y|x))$. The motivation is detailed in https://en.wikipedia.org/wiki/Conditional_entropy. $I(X,Y)$ being the mutual information.\n",
    "Plug-in estimator applies also for $p(x,y)$, simply taking Z=(X,Y).\n",
    "\n",
    "## Mutual information\n",
    "$$\\operatorname {I} (X;Y)=\\sum _{y\\in {\\mathcal {Y}}}\\sum _{x\\in {\\mathcal {X}}}{p_{(X,Y)}(x,y)\\log {\\left({\\frac {p_{(X,Y)}(x,y)}{p_{X}(x)\\,p_{Y}(y)}}\\right)}}$$\n",
    "Connection with joint entropy can be viewed in https://en.wikipedia.org/wiki/Mutual_information#Relation_to_conditional_and_joint_entropy\n",
    "\n",
    "The estimation of mutual information has been through major progress recent years. A recent method using bayesian learning is https://arxiv.org/pdf/1808.05581.pdf\n",
    "\n",
    "Additional documentary:\n",
    "\n",
    "http://www.columbia.edu/~jwp2128/Teaching/E6720/BayesianModelsMachineLearning2016.pdf bayesian model\n",
    "\n",
    "https://ned.ipac.caltech.edu/level5/March02/Silverman/paper.pdf density estimation\n",
    "\n",
    "https://web.stanford.edu/~hastie/Papers/ESLII.pdf statistical learning\n",
    "\n",
    "## Conclusion\n",
    "The R-package, SLEMI - statistical learning based estimation of mutual information seems to be a decent choice for measuring EEG-EMG mutual information\n"
   ]
  },
  {
   "cell_type": "code",
   "execution_count": 2,
   "metadata": {},
   "outputs": [
    {
     "name": "stdout",
     "output_type": "stream",
     "text": [
      "package 'entropy' successfully unpacked and MD5 sums checked\n",
      "\n",
      "The downloaded binary packages are in\n",
      "\tC:\\Users\\Administrator\\AppData\\Local\\Temp\\Rtmpw5hXaa\\downloaded_packages\n"
     ]
    }
   ],
   "source": [
    "# package installation\n",
    "# This cell should be run at the first time, and be ignored for following runs.\n",
    "install.packages('entropy')"
   ]
  },
  {
   "cell_type": "markdown",
   "metadata": {},
   "source": [
    "## The insight of shannon's entropy"
   ]
  },
  {
   "cell_type": "code",
   "execution_count": 5,
   "metadata": {},
   "outputs": [
    {
     "data": {
      "image/png": "[encoded data removed]",
      "text/plain": [
       "Plot with title \"Histogram of x1\""
      ]
     },
     "metadata": {
      "image/png": {
       "height": 420,
       "width": 420
      },
      "text/plain": {
       "height": 420,
       "width": 420
      }
     },
     "output_type": "display_data"
    }
   ],
   "source": [
    "library(\"entropy\")\n",
    "x1=runif(1000)\n",
    "hist(x1, xlim=c(0,1), freq=FALSE)\n",
    "# the integral being equals to 1 is not contradictory to the appearance o fdensity over 1"
   ]
  },
  {
   "cell_type": "code",
   "execution_count": 8,
   "metadata": {},
   "outputs": [
    {
     "name": "stdout",
     "output_type": "stream",
     "text": [
      "[1] 2.300778\n",
      "[1] 2.302585\n"
     ]
    },
    {
     "data": {
      "text/html": [
       "-0.230258509299405"
      ],
      "text/latex": [
       "-0.230258509299405"
      ],
      "text/markdown": [
       "-0.230258509299405"
      ],
      "text/plain": [
       "[1] -0.2302585"
      ]
     },
     "metadata": {},
     "output_type": "display_data"
    }
   ],
   "source": [
    "y1 = discretize(x1, numBins=10, r=c(0,1))\n",
    "print(entropy(y1))\n",
    "print(log(10))\n",
    "# if p_i being 0.1, the empirical entropy should be:\n",
    "-1/10*log(0.1)"
   ]
  },
  {
   "cell_type": "code",
   "execution_count": 9,
   "metadata": {},
   "outputs": [
    {
     "data": {
      "text/html": [
       "1000"
      ],
      "text/latex": [
       "1000"
      ],
      "text/markdown": [
       "1000"
      ],
      "text/plain": [
       "[1] 1000"
      ]
     },
     "metadata": {},
     "output_type": "display_data"
    },
    {
     "data": {
      "text/html": [
       "4.56212103334755"
      ],
      "text/latex": [
       "4.56212103334755"
      ],
      "text/markdown": [
       "4.56212103334755"
      ],
      "text/plain": [
       "[1] 4.562121"
      ]
     },
     "metadata": {},
     "output_type": "display_data"
    },
    {
     "data": {
      "text/html": [
       "4.60517018598809"
      ],
      "text/latex": [
       "4.60517018598809"
      ],
      "text/markdown": [
       "4.60517018598809"
      ],
      "text/plain": [
       "[1] 4.60517"
      ]
     },
     "metadata": {},
     "output_type": "display_data"
    }
   ],
   "source": [
    "# 2D joint entropy\n",
    "x1 = runif(1000)\n",
    "x2 = runif(1000)\n",
    "y2d = discretize2d(x1, x2, numBins1=10, numBins2=10)\n",
    "sum(y2d)\n",
    "H12 = entropy(y2d )\n",
    "H12\n",
    "log(100)"
   ]
  },
  {
   "cell_type": "markdown",
   "metadata": {},
   "source": [
    "## Comparison of $H(X)$ and $H^{MM}(X)$"
   ]
  },
  {
   "cell_type": "code",
   "execution_count": 9,
   "metadata": {},
   "outputs": [
    {
     "data": {
      "text/html": [
       "1.96838240872838"
      ],
      "text/latex": [
       "1.96838240872838"
      ],
      "text/markdown": [
       "1.96838240872838"
      ],
      "text/plain": [
       "[1] 1.968382"
      ]
     },
     "metadata": {},
     "output_type": "display_data"
    },
    {
     "data": {
      "text/html": [
       "2.15259293504417"
      ],
      "text/latex": [
       "2.15259293504417"
      ],
      "text/markdown": [
       "2.15259293504417"
      ],
      "text/plain": [
       "[1] 2.152593"
      ]
     },
     "metadata": {},
     "output_type": "display_data"
    },
    {
     "name": "stdout",
     "output_type": "stream",
     "text": [
      "[1] \"difference between ML and MM estimator\"\n",
      "[1] 0.1842105\n"
     ]
    },
    {
     "data": {
      "text/html": [
       "0.184210526315789"
      ],
      "text/latex": [
       "0.184210526315789"
      ],
      "text/markdown": [
       "0.184210526315789"
      ],
      "text/plain": [
       "[1] 0.1842105"
      ]
     },
     "metadata": {},
     "output_type": "display_data"
    }
   ],
   "source": [
    "y = c(4, 2, 3, 0, 2, 4, 0, 0, 2, 1, 1) # counts for each bin, here S=8 and n =19\n",
    "entropy.empirical(y)\n",
    "entropy.MillerMadow(y)\n",
    "print(\"difference between ML and MM estimator\")\n",
    "print(entropy.MillerMadow(y)-entropy.empirical(y))\n",
    "S=8\n",
    "n=19\n",
    "(S-1)/2/n"
   ]
  },
  {
   "cell_type": "code",
   "execution_count": 11,
   "metadata": {},
   "outputs": [
    {
     "data": {
      "text/html": [
       "2.29717619177049"
      ],
      "text/latex": [
       "2.29717619177049"
      ],
      "text/markdown": [
       "2.29717619177049"
      ],
      "text/plain": [
       "[1] 2.297176"
      ]
     },
     "metadata": {},
     "output_type": "display_data"
    },
    {
     "data": {
      "text/html": [
       "2.30167619177049"
      ],
      "text/latex": [
       "2.30167619177049"
      ],
      "text/markdown": [
       "2.30167619177049"
      ],
      "text/plain": [
       "[1] 2.301676"
      ]
     },
     "metadata": {},
     "output_type": "display_data"
    },
    {
     "data": {
      "text/html": [
       "4.55613246594059"
      ],
      "text/latex": [
       "4.55613246594059"
      ],
      "text/markdown": [
       "4.55613246594059"
      ],
      "text/plain": [
       "[1] 4.556132"
      ]
     },
     "metadata": {},
     "output_type": "display_data"
    },
    {
     "data": {
      "text/html": [
       "4.60563246594059"
      ],
      "text/latex": [
       "4.60563246594059"
      ],
      "text/markdown": [
       "4.60563246594059"
      ],
      "text/plain": [
       "[1] 4.605632"
      ]
     },
     "metadata": {},
     "output_type": "display_data"
    },
    {
     "name": "stdout",
     "output_type": "stream",
     "text": [
      "[1] 2.302585\n",
      "[1] 4.60517\n"
     ]
    }
   ],
   "source": [
    "# Observations with variable = number of bins (S)\n",
    "x1=runif(1000)\n",
    "y1 = discretize(x1, numBins=10, r=c(0,1))\n",
    "y2 = discretize(x1, numBins=100, r=c(0,1))\n",
    "entropy.empirical(y1)\n",
    "entropy.MillerMadow(y1)\n",
    "entropy.empirical(y2)\n",
    "entropy.MillerMadow(y2)\n",
    "print(log(10))\n",
    "print(log(100))"
   ]
  },
  {
   "cell_type": "code",
   "execution_count": 10,
   "metadata": {},
   "outputs": [
    {
     "data": {
      "text/html": [
       "0.0345362227380898"
      ],
      "text/latex": [
       "0.0345362227380898"
      ],
      "text/markdown": [
       "0.0345362227380898"
      ],
      "text/plain": [
       "[1] 0.03453622"
      ]
     },
     "metadata": {},
     "output_type": "display_data"
    }
   ],
   "source": [
    "# Mutual information\n",
    "mi.empirical(y2d)"
   ]
  },
  {
   "cell_type": "markdown",
   "metadata": {},
   "source": [
    "# Estimation of mutual information\n"
   ]
  },
  {
   "cell_type": "code",
   "execution_count": null,
   "metadata": {},
   "outputs": [],
   "source": [
    "# run once if not installed\n",
    "#install.packages(\"devtools\")\n",
    "install.package(\"rlang\")\n",
    "#remotes::update_packages(\"rlang\") # update rlang"
   ]
  },
  {
   "cell_type": "code",
   "execution_count": 8,
   "metadata": {},
   "outputs": [
    {
     "name": "stderr",
     "output_type": "stream",
     "text": [
      "Warning message:\n",
      "\"package 'devtools' was built under R version 3.6.3\"\n",
      "Loading required package: usethis\n",
      "\n",
      "Warning message:\n",
      "\"package 'usethis' was built under R version 3.6.3\"\n",
      "Error: package or namespace load failed for 'usethis' in loadNamespace(i, c(lib.loc, .libPaths()), versionCheck = vI[[i]]):\n",
      " namespace 'rlang' 0.4.2 is already loaded, but >= 0.4.3 is required\n",
      "\n"
     ]
    },
    {
     "ename": "ERROR",
     "evalue": "Error: package 'usethis' could not be loaded\n",
     "output_type": "error",
     "traceback": [
      "Error: package 'usethis' could not be loaded\nTraceback:\n",
      "1. library(devtools)",
      "2. .getRequiredPackages2(pkgInfo, quietly = quietly)",
      "3. stop(gettextf(\"package %s could not be loaded\", sQuote(pkg)), \n .     call. = FALSE, domain = NA)"
     ]
    }
   ],
   "source": [
    "library(devtools)\n",
    "install_github(\"sysbiosig/SLEMI\")"
   ]
  },
  {
   "cell_type": "code",
   "execution_count": 7,
   "metadata": {},
   "outputs": [
    {
     "name": "stdout",
     "output_type": "stream",
     "text": [
      "rlang (0.4.2 -> 0.4.6) [CRAN]\n"
     ]
    },
    {
     "name": "stderr",
     "output_type": "stream",
     "text": [
      "Installing 1 packages: rlang\n",
      "\n"
     ]
    },
    {
     "name": "stdout",
     "output_type": "stream",
     "text": [
      "package 'rlang' successfully unpacked and MD5 sums checked\n"
     ]
    },
    {
     "ename": "ERROR",
     "evalue": "Error: (converti depuis l'avis) cannot remove prior installation of package 'rlang'\n",
     "output_type": "error",
     "traceback": [
      "Error: (converti depuis l'avis) cannot remove prior installation of package 'rlang'\nTraceback:\n",
      "1. remotes::update_packages(\"rlang\")",
      "2. update(pkgs, dependencies = dependencies, upgrade = upgrade, \n .     force = force, quiet = quiet, build = build, build_opts = build_opts, \n .     build_manual = build_manual, build_vignettes = build_vignettes, \n .     repos = repos, type = type, ...)",
      "3. update.package_deps(pkgs, dependencies = dependencies, upgrade = upgrade, \n .     force = force, quiet = quiet, build = build, build_opts = build_opts, \n .     build_manual = build_manual, build_vignettes = build_vignettes, \n .     repos = repos, type = type, ...)",
      "4. install_packages(object$package[object$is_cran & behind], repos = r$repos, \n .     type = r$pkg_type, dependencies = dependencies, quiet = quiet, \n .     ...)",
      "5. do.call(safe_install_packages, c(list(packages, repos = repos, \n .     type = type, dependencies = dependencies, quiet = quiet), \n .     args))",
      "6. (function (...) \n . {\n .     lib <- paste(.libPaths(), collapse = .Platform$path.sep)\n .     if (!is_standalone() && has_package(\"crancache\") && has_package(\"callr\")) {\n .         i.p <- \"crancache\" %::% \"install_packages\"\n .     }\n .     else {\n .         i.p <- utils::install.packages\n .     }\n .     with_options(list(install.lock = getOption(\"install.lock\", \n .         TRUE)), {\n .         with_envvar(c(R_LIBS = lib, R_LIBS_USER = lib, R_LIBS_SITE = lib, \n .             RGL_USE_NULL = \"TRUE\"), if (should_error_for_warnings()) {\n .             with_options(list(warn = 2), with_rprofile_user(\"options(warn = 2)\", \n .                 i.p(...)))\n .         }\n .         else {\n .             i.p(...)\n .         })\n .     })\n . })(\"rlang\", repos = structure(c(CRAN = \"https://cran.r-project.org\"), irkernel = TRUE), \n .     type = \"both\", dependencies = NA, quiet = FALSE)",
      "7. with_options(list(install.lock = getOption(\"install.lock\", TRUE)), \n .     {\n .         with_envvar(c(R_LIBS = lib, R_LIBS_USER = lib, R_LIBS_SITE = lib, \n .             RGL_USE_NULL = \"TRUE\"), if (should_error_for_warnings()) {\n .             with_options(list(warn = 2), with_rprofile_user(\"options(warn = 2)\", \n .                 i.p(...)))\n .         }\n .         else {\n .             i.p(...)\n .         })\n .     })",
      "8. force(code)",
      "9. with_envvar(c(R_LIBS = lib, R_LIBS_USER = lib, R_LIBS_SITE = lib, \n .     RGL_USE_NULL = \"TRUE\"), if (should_error_for_warnings()) {\n .     with_options(list(warn = 2), with_rprofile_user(\"options(warn = 2)\", \n .         i.p(...)))\n . } else {\n .     i.p(...)\n . })",
      "10. force(code)",
      "11. with_options(list(warn = 2), with_rprofile_user(\"options(warn = 2)\", \n  .     i.p(...)))",
      "12. force(code)",
      "13. with_rprofile_user(\"options(warn = 2)\", i.p(...))",
      "14. with_envvar(c(R_PROFILE_USER = temp_rprofile), {\n  .     force(code)\n  . })",
      "15. force(code)",
      "16. force(code)",
      "17. i.p(...)",
      "18. .install.winbinary(pkgs = bins, lib = lib, contriburl = contrib.url(repos, \n  .     type2), method = method, available = av2, destdir = destdir, \n  .     dependencies = NULL, libs_only = libs_only, quiet = quiet, \n  .     ...)",
      "19. unpackPkgZip(foundpkgs[okp, 2L], foundpkgs[okp, 1L], lib, libs_only, \n  .     lock)",
      "20. warning(gettextf(\"cannot remove prior installation of package %s\", \n  .     sQuote(pkgname)), domain = NA, call. = FALSE, immediate. = TRUE)",
      "21. .signalSimpleWarning(\"cannot remove prior installation of package 'rlang'\", \n  .     base::quote(NULL))",
      "22. withRestarts({\n  .     .Internal(.signalCondition(simpleWarning(msg, call), msg, \n  .         call))\n  .     .Internal(.dfltWarn(msg, call))\n  . }, muffleWarning = function() NULL)",
      "23. withOneRestart(expr, restarts[[1L]])",
      "24. doWithOneRestart(return(expr), restart)"
     ]
    }
   ],
   "source": []
  }
 ],
 "metadata": {
  "kernelspec": {
   "display_name": "R",
   "language": "R",
   "name": "ir"
  },
  "language_info": {
   "codemirror_mode": "r",
   "file_extension": ".r",
   "mimetype": "text/x-r-source",
   "name": "R",
   "pygments_lexer": "r",
   "version": "3.6.1"
  }
 },
 "nbformat": 4,
 "nbformat_minor": 2
}

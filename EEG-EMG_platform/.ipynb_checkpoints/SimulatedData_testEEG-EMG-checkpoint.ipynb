{
 "cells": [
  {
   "cell_type": "markdown",
   "metadata": {},
   "source": [
    "# Pre-processing workflow\n",
    "## EMG\n",
    "- output: .txt file containing 12 channels as well as the names of channels corresponding to these 12 columns in the .txt file\n",
    "## EEG\n",
    "- NE recording device measured .easy file\n",
    "- EEGLAB preprocessing including FILTER PREP ICA (whether or not epoched is not yet decided)\n",
    "- output: .set file \n",
    "\n",
    "## EMG channels locations\n",
    "for convenience, polar coordinates are firstly and visually defined\n"
   ]
  },
  {
   "cell_type": "code",
   "execution_count": 4,
   "metadata": {},
   "outputs": [
    {
     "data": {
      "text/plain": [
       "(2.4425429115796855, -1.7418335526369428)"
      ]
     },
     "execution_count": 4,
     "metadata": {},
     "output_type": "execute_result"
    }
   ],
   "source": [
    "#polar object definition - with transformation method\n",
    "\n",
    "EMGloc_dic={'1':[3,120],'2':[3,-90],'3':[3,20]}\n",
    "\n",
    "import numpy as np\n",
    "\n",
    "# the unit of phi is degree\n",
    "def pol2cart(rho, phi):\n",
    "    x = rho * np.cos(phi/180*np.pi)\n",
    "    y = rho * np.sin(phi)\n",
    "    return(x, y)\n",
    "\n",
    "pol2cart(3,120)"
   ]
  },
  {
   "cell_type": "code",
   "execution_count": 6,
   "metadata": {},
   "outputs": [
    {
     "data": {
      "text/plain": [
       "-0.4999999999999998"
      ]
     },
     "execution_count": 6,
     "metadata": {},
     "output_type": "execute_result"
    }
   ],
   "source": [
    "np.cos(2/3*np.pi)"
   ]
  }
 ],
 "metadata": {
  "kernelspec": {
   "display_name": "Python 3",
   "language": "python",
   "name": "python3"
  },
  "language_info": {
   "codemirror_mode": {
    "name": "ipython",
    "version": 3
   },
   "file_extension": ".py",
   "mimetype": "text/x-python",
   "name": "python",
   "nbconvert_exporter": "python",
   "pygments_lexer": "ipython3",
   "version": "3.7.5"
  }
 },
 "nbformat": 4,
 "nbformat_minor": 2
}

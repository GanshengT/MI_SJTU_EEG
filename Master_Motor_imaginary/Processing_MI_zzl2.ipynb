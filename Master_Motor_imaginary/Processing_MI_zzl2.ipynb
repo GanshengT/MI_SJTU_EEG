{
 "cells": [
  {
   "cell_type": "code",
   "execution_count": 1,
   "metadata": {},
   "outputs": [
    {
     "name": "stdout",
     "output_type": "stream",
     "text": [
      "Extracting parameters from F:\\software\\1NE_NIC2\\raw\\MI10Oct_and8_oneCmc\\zzl2Session1.set...\n",
      "100 matching events found\n",
      "No baseline correction applied\n",
      "Not setting metadata\n"
     ]
    },
    {
     "name": "stderr",
     "output_type": "stream",
     "text": [
      "<ipython-input-1-984c54476614>:8: RuntimeWarning: At least one epoch has multiple events. Only the latency of the first event will be retained.\n",
      "  montage=montage_NE)\n"
     ]
    },
    {
     "name": "stdout",
     "output_type": "stream",
     "text": [
      "0 projection items activated\n",
      "Ready.\n",
      "Computing data rank from raw with rank='full'\n",
      "    MAG: rank 32 from info\n",
      "Reducing data rank from 32 -> 32\n",
      "Estimating covariance using SHRUNK\n"
     ]
    },
    {
     "name": "stderr",
     "output_type": "stream",
     "text": [
      "F:\\software\\2PYTHON\\lib\\site-packages\\sklearn\\model_selection\\_split.py:2053: FutureWarning: You should specify a value for 'cv' instead of relying on the default value. The default value will change from 3 to 5 in version 0.22.\n",
      "  warnings.warn(CV_WARNING, FutureWarning)\n"
     ]
    },
    {
     "name": "stdout",
     "output_type": "stream",
     "text": [
      "Done.\n",
      "Computing data rank from raw with rank='full'\n",
      "    MAG: rank 32 from info\n",
      "Reducing data rank from 32 -> 32\n",
      "Estimating covariance using SHRUNK\n"
     ]
    },
    {
     "name": "stderr",
     "output_type": "stream",
     "text": [
      "F:\\software\\2PYTHON\\lib\\site-packages\\sklearn\\model_selection\\_split.py:2053: FutureWarning: You should specify a value for 'cv' instead of relying on the default value. The default value will change from 3 to 5 in version 0.22.\n",
      "  warnings.warn(CV_WARNING, FutureWarning)\n"
     ]
    },
    {
     "name": "stdout",
     "output_type": "stream",
     "text": [
      "Done.\n"
     ]
    },
    {
     "data": {
      "text/plain": [
       "CSP(cov_est='concat', cov_method_params=None, log=None, n_components=4,\n",
       "  norm_trace=False, rank='full', reg='shrunk',\n",
       "  transform_into='average_power')"
      ]
     },
     "execution_count": 1,
     "metadata": {},
     "output_type": "execute_result"
    }
   ],
   "source": [
    "import mne\n",
    "from mne.decoding import CSP\n",
    "import pandas\n",
    "import numpy as np\n",
    "#Using locs to read montage\n",
    "montage_NE = mne.channels.read_montage(kind='Enobio32',path=r'F:\\software\\1NE_NIC2\\1channelL')\n",
    "epochs_zzl2Session1 = mne.io.read_epochs_eeglab(input_fname=r'F:\\software\\1NE_NIC2\\raw\\MI10Oct_and8_oneCmc\\zzl2Session1.set',\n",
    "                             montage=montage_NE)\n",
    "# %matplotlib qt\n",
    "# epochs_zzl2Session1.plot()\n",
    "MI_epochs = epochs_zzl2Session1.copy()\n",
    "MI_epochs.crop(tmin = 3, tmax = 7)\n",
    "# MI_epochs.plot()\n",
    "\n",
    "y = pandas.read_csv('F:/software/1NE_NIC2/raw/MI10Oct_and8_oneCmc/100times_test_section1.csv')\n",
    "labels=y.iloc[1:101, 2]\n",
    "y=np.array([])\n",
    "for label in labels:\n",
    "    if label == 'left':\n",
    "        y=np.append(y,1)\n",
    "    else:\n",
    "        y=np.append(y,0)\n",
    "\n",
    "X=MI_epochs.get_data()\n",
    "csp = CSP(n_components=4,reg='shrunk',cov_est='concat',rank ='full')\n",
    "\n",
    "csp.fit(X,y)"
   ]
  },
  {
   "cell_type": "code",
   "execution_count": 2,
   "metadata": {},
   "outputs": [
    {
     "data": {
      "text/plain": [
       "<Figure size 1200x400 with 3 Axes>"
      ]
     },
     "metadata": {},
     "output_type": "display_data"
    }
   ],
   "source": [
    "import matplotlib.pyplot as plt\n",
    "from mne.viz.topomap import _prepare_topo_plot\n",
    "from mpl_toolkits.axes_grid1 import make_axes_locatable\n",
    "_,epos,_,_,_ = _prepare_topo_plot(MI_epochs,'eeg',None)\n",
    "# epos is the position of electrode\n",
    "# plot first pattern\n",
    "pattern = csp.patterns_[0,:]\n",
    "pattern -= pattern.mean()\n",
    "ix = np.argmax(abs(pattern))\n",
    "# the parttern is sign invariant.\n",
    "# invert it for display purpose\n",
    "if pattern[ix]>0:\n",
    "    sign = 1.0\n",
    "else:\n",
    "    sign = -1.0\n",
    "\n",
    "fig, ax_topo = plt.subplots(1, 1, figsize=(12, 4))\n",
    "title = 'Spatial Pattern'\n",
    "fig.suptitle(title, fontsize=14)\n",
    "img, _ = mne.viz.plot_topomap(sign*pattern,epos,axes=ax_topo,show=False)\n",
    "divider = make_axes_locatable(ax_topo)\n",
    "# add axes for colorbar\n",
    "ax_colorbar = divider.append_axes('right', size='5%', pad=0.05)\n",
    "plt.colorbar(img, cax=ax_colorbar)\n",
    "# try spetral pattern\n",
    "from scipy.signal import welch\n",
    "po = []\n",
    "for x in X:\n",
    "    f,p = welch(np.dot(csp.filters_[0,:].T,x), 500, nperseg=512)\n",
    "    po.append(p)\n",
    "po = np.array(po)\n",
    "fix = (f>0.5) & (f<59)\n",
    "ax_spectrum = divider.append_axes('right', size='300%', pad=1.2)\n",
    "ax_spectrum.plot(f[fix],np.log(po[y==1][:,fix].mean(axis=0).T),'-r',lw=2)\n",
    "ax_spectrum.plot(f[fix],np.log(po[y==0][:,fix].mean(axis=0).T),'-b',lw=2)\n",
    "ax_spectrum.set_xlabel('Frequency (Hz)')\n",
    "ax_spectrum.set_ylabel('Power (dB)')\n",
    "plt.grid()\n",
    "plt.legend(['left','right'])\n",
    "plt.title('ZZL')\n",
    "plt.show()\n",
    "plt.savefig('spatial_pattern_subject_zzl.png'  ,bbox_inches='tight')"
   ]
  },
  {
   "cell_type": "code",
   "execution_count": 30,
   "metadata": {},
   "outputs": [
    {
     "name": "stderr",
     "output_type": "stream",
     "text": [
      "F:\\software\\2PYTHON\\lib\\site-packages\\sklearn\\model_selection\\_split.py:2053: FutureWarning: You should specify a value for 'cv' instead of relying on the default value. The default value will change from 3 to 5 in version 0.22.\n",
      "  warnings.warn(CV_WARNING, FutureWarning)\n"
     ]
    },
    {
     "name": "stdout",
     "output_type": "stream",
     "text": [
      "Computing data rank from raw with rank='full'\n",
      "    MAG: rank 32 from info\n",
      "Reducing data rank from 32 -> 32\n",
      "Estimating covariance using SHRUNK\n"
     ]
    },
    {
     "name": "stderr",
     "output_type": "stream",
     "text": [
      "F:\\software\\2PYTHON\\lib\\site-packages\\sklearn\\model_selection\\_split.py:2053: FutureWarning: You should specify a value for 'cv' instead of relying on the default value. The default value will change from 3 to 5 in version 0.22.\n",
      "  warnings.warn(CV_WARNING, FutureWarning)\n"
     ]
    },
    {
     "name": "stdout",
     "output_type": "stream",
     "text": [
      "Done.\n",
      "Computing data rank from raw with rank='full'\n",
      "    MAG: rank 32 from info\n",
      "Reducing data rank from 32 -> 32\n",
      "Estimating covariance using SHRUNK\n"
     ]
    },
    {
     "name": "stderr",
     "output_type": "stream",
     "text": [
      "F:\\software\\2PYTHON\\lib\\site-packages\\sklearn\\model_selection\\_split.py:2053: FutureWarning: You should specify a value for 'cv' instead of relying on the default value. The default value will change from 3 to 5 in version 0.22.\n",
      "  warnings.warn(CV_WARNING, FutureWarning)\n"
     ]
    },
    {
     "name": "stdout",
     "output_type": "stream",
     "text": [
      "Done.\n"
     ]
    },
    {
     "name": "stderr",
     "output_type": "stream",
     "text": [
      "F:\\software\\2PYTHON\\lib\\site-packages\\sklearn\\linear_model\\logistic.py:433: FutureWarning: Default solver will be changed to 'lbfgs' in 0.22. Specify a solver to silence this warning.\n",
      "  FutureWarning)\n"
     ]
    },
    {
     "name": "stdout",
     "output_type": "stream",
     "text": [
      "Computing data rank from raw with rank='full'\n",
      "    MAG: rank 32 from info\n",
      "Reducing data rank from 32 -> 32\n",
      "Estimating covariance using SHRUNK\n"
     ]
    },
    {
     "name": "stderr",
     "output_type": "stream",
     "text": [
      "F:\\software\\2PYTHON\\lib\\site-packages\\sklearn\\model_selection\\_split.py:2053: FutureWarning: You should specify a value for 'cv' instead of relying on the default value. The default value will change from 3 to 5 in version 0.22.\n",
      "  warnings.warn(CV_WARNING, FutureWarning)\n"
     ]
    },
    {
     "name": "stdout",
     "output_type": "stream",
     "text": [
      "Done.\n",
      "Computing data rank from raw with rank='full'\n",
      "    MAG: rank 32 from info\n",
      "Reducing data rank from 32 -> 32\n",
      "Estimating covariance using SHRUNK\n"
     ]
    },
    {
     "name": "stderr",
     "output_type": "stream",
     "text": [
      "F:\\software\\2PYTHON\\lib\\site-packages\\sklearn\\model_selection\\_split.py:2053: FutureWarning: You should specify a value for 'cv' instead of relying on the default value. The default value will change from 3 to 5 in version 0.22.\n",
      "  warnings.warn(CV_WARNING, FutureWarning)\n"
     ]
    },
    {
     "name": "stdout",
     "output_type": "stream",
     "text": [
      "Done.\n"
     ]
    },
    {
     "name": "stderr",
     "output_type": "stream",
     "text": [
      "F:\\software\\2PYTHON\\lib\\site-packages\\sklearn\\linear_model\\logistic.py:433: FutureWarning: Default solver will be changed to 'lbfgs' in 0.22. Specify a solver to silence this warning.\n",
      "  FutureWarning)\n"
     ]
    },
    {
     "name": "stdout",
     "output_type": "stream",
     "text": [
      "Computing data rank from raw with rank='full'\n",
      "    MAG: rank 32 from info\n",
      "Reducing data rank from 32 -> 32\n",
      "Estimating covariance using SHRUNK\n"
     ]
    },
    {
     "name": "stderr",
     "output_type": "stream",
     "text": [
      "F:\\software\\2PYTHON\\lib\\site-packages\\sklearn\\model_selection\\_split.py:2053: FutureWarning: You should specify a value for 'cv' instead of relying on the default value. The default value will change from 3 to 5 in version 0.22.\n",
      "  warnings.warn(CV_WARNING, FutureWarning)\n"
     ]
    },
    {
     "name": "stdout",
     "output_type": "stream",
     "text": [
      "Done.\n",
      "Computing data rank from raw with rank='full'\n",
      "    MAG: rank 32 from info\n",
      "Reducing data rank from 32 -> 32\n",
      "Estimating covariance using SHRUNK\n"
     ]
    },
    {
     "name": "stderr",
     "output_type": "stream",
     "text": [
      "F:\\software\\2PYTHON\\lib\\site-packages\\sklearn\\model_selection\\_split.py:2053: FutureWarning: You should specify a value for 'cv' instead of relying on the default value. The default value will change from 3 to 5 in version 0.22.\n",
      "  warnings.warn(CV_WARNING, FutureWarning)\n"
     ]
    },
    {
     "name": "stdout",
     "output_type": "stream",
     "text": [
      "Done.\n"
     ]
    },
    {
     "name": "stderr",
     "output_type": "stream",
     "text": [
      "F:\\software\\2PYTHON\\lib\\site-packages\\sklearn\\linear_model\\logistic.py:433: FutureWarning: Default solver will be changed to 'lbfgs' in 0.22. Specify a solver to silence this warning.\n",
      "  FutureWarning)\n"
     ]
    }
   ],
   "source": [
    "from sklearn.pipeline import make_pipeline\n",
    "from sklearn.linear_model import LogisticRegression\n",
    "from sklearn.metrics import roc_auc_score\n",
    "from sklearn.model_selection import cross_val_score\n",
    "clf = make_pipeline(CSP(n_components=5,reg='shrunk',cov_est='concat',rank ='full'),LogisticRegression())\n",
    "auc=[]\n",
    "auc.append(cross_val_score(clf,X,y,scoring='roc_auc').mean())\n",
    "#auc of Logis is about 0.5"
   ]
  },
  {
   "cell_type": "code",
   "execution_count": 34,
   "metadata": {},
   "outputs": [],
   "source": [
    "#Accuracy of training process\n",
    "from  sklearn.model_selection import train_test_split\n",
    "X_train, X_test, y_train, y_test =train_test_split(X, y, test_size=0.3, random_state=42)"
   ]
  },
  {
   "cell_type": "code",
   "execution_count": 46,
   "metadata": {},
   "outputs": [
    {
     "name": "stdout",
     "output_type": "stream",
     "text": [
      "Computing data rank from raw with rank='full'\n",
      "    MAG: rank 32 from info\n",
      "Reducing data rank from 32 -> 32\n",
      "Estimating covariance using SHRUNK\n"
     ]
    },
    {
     "name": "stderr",
     "output_type": "stream",
     "text": [
      "F:\\software\\2PYTHON\\lib\\site-packages\\sklearn\\model_selection\\_split.py:2053: FutureWarning: You should specify a value for 'cv' instead of relying on the default value. The default value will change from 3 to 5 in version 0.22.\n",
      "  warnings.warn(CV_WARNING, FutureWarning)\n"
     ]
    },
    {
     "name": "stdout",
     "output_type": "stream",
     "text": [
      "Done.\n",
      "Computing data rank from raw with rank='full'\n",
      "    MAG: rank 32 from info\n",
      "Reducing data rank from 32 -> 32\n",
      "Estimating covariance using SHRUNK\n"
     ]
    },
    {
     "name": "stderr",
     "output_type": "stream",
     "text": [
      "F:\\software\\2PYTHON\\lib\\site-packages\\sklearn\\model_selection\\_split.py:2053: FutureWarning: You should specify a value for 'cv' instead of relying on the default value. The default value will change from 3 to 5 in version 0.22.\n",
      "  warnings.warn(CV_WARNING, FutureWarning)\n"
     ]
    },
    {
     "name": "stdout",
     "output_type": "stream",
     "text": [
      "Done.\n",
      "Computing data rank from raw with rank='full'\n",
      "    MAG: rank 32 from info\n",
      "Reducing data rank from 32 -> 32\n",
      "Estimating covariance using SHRUNK\n"
     ]
    },
    {
     "name": "stderr",
     "output_type": "stream",
     "text": [
      "F:\\software\\2PYTHON\\lib\\site-packages\\sklearn\\model_selection\\_split.py:2053: FutureWarning: You should specify a value for 'cv' instead of relying on the default value. The default value will change from 3 to 5 in version 0.22.\n",
      "  warnings.warn(CV_WARNING, FutureWarning)\n"
     ]
    },
    {
     "name": "stdout",
     "output_type": "stream",
     "text": [
      "Done.\n",
      "Computing data rank from raw with rank='full'\n",
      "    MAG: rank 32 from info\n",
      "Reducing data rank from 32 -> 32\n",
      "Estimating covariance using SHRUNK\n"
     ]
    },
    {
     "name": "stderr",
     "output_type": "stream",
     "text": [
      "F:\\software\\2PYTHON\\lib\\site-packages\\sklearn\\model_selection\\_split.py:2053: FutureWarning: You should specify a value for 'cv' instead of relying on the default value. The default value will change from 3 to 5 in version 0.22.\n",
      "  warnings.warn(CV_WARNING, FutureWarning)\n"
     ]
    },
    {
     "name": "stdout",
     "output_type": "stream",
     "text": [
      "Done.\n",
      "Computing data rank from raw with rank='full'\n",
      "    MAG: rank 32 from info\n",
      "Reducing data rank from 32 -> 32\n",
      "Estimating covariance using SHRUNK\n"
     ]
    },
    {
     "name": "stderr",
     "output_type": "stream",
     "text": [
      "F:\\software\\2PYTHON\\lib\\site-packages\\sklearn\\model_selection\\_split.py:2053: FutureWarning: You should specify a value for 'cv' instead of relying on the default value. The default value will change from 3 to 5 in version 0.22.\n",
      "  warnings.warn(CV_WARNING, FutureWarning)\n"
     ]
    },
    {
     "name": "stdout",
     "output_type": "stream",
     "text": [
      "Done.\n",
      "Computing data rank from raw with rank='full'\n",
      "    MAG: rank 32 from info\n",
      "Reducing data rank from 32 -> 32\n",
      "Estimating covariance using SHRUNK\n"
     ]
    },
    {
     "name": "stderr",
     "output_type": "stream",
     "text": [
      "F:\\software\\2PYTHON\\lib\\site-packages\\sklearn\\model_selection\\_split.py:2053: FutureWarning: You should specify a value for 'cv' instead of relying on the default value. The default value will change from 3 to 5 in version 0.22.\n",
      "  warnings.warn(CV_WARNING, FutureWarning)\n"
     ]
    },
    {
     "name": "stdout",
     "output_type": "stream",
     "text": [
      "Done.\n",
      "Computing data rank from raw with rank='full'\n",
      "    MAG: rank 32 from info\n",
      "Reducing data rank from 32 -> 32\n",
      "Estimating covariance using SHRUNK\n"
     ]
    },
    {
     "name": "stderr",
     "output_type": "stream",
     "text": [
      "F:\\software\\2PYTHON\\lib\\site-packages\\sklearn\\model_selection\\_split.py:2053: FutureWarning: You should specify a value for 'cv' instead of relying on the default value. The default value will change from 3 to 5 in version 0.22.\n",
      "  warnings.warn(CV_WARNING, FutureWarning)\n"
     ]
    },
    {
     "name": "stdout",
     "output_type": "stream",
     "text": [
      "Done.\n",
      "Computing data rank from raw with rank='full'\n",
      "    MAG: rank 32 from info\n",
      "Reducing data rank from 32 -> 32\n",
      "Estimating covariance using SHRUNK\n"
     ]
    },
    {
     "name": "stderr",
     "output_type": "stream",
     "text": [
      "F:\\software\\2PYTHON\\lib\\site-packages\\sklearn\\model_selection\\_split.py:2053: FutureWarning: You should specify a value for 'cv' instead of relying on the default value. The default value will change from 3 to 5 in version 0.22.\n",
      "  warnings.warn(CV_WARNING, FutureWarning)\n"
     ]
    },
    {
     "name": "stdout",
     "output_type": "stream",
     "text": [
      "Done.\n",
      "Computing data rank from raw with rank='full'\n",
      "    MAG: rank 32 from info\n",
      "Reducing data rank from 32 -> 32\n",
      "Estimating covariance using SHRUNK\n"
     ]
    },
    {
     "name": "stderr",
     "output_type": "stream",
     "text": [
      "F:\\software\\2PYTHON\\lib\\site-packages\\sklearn\\model_selection\\_split.py:2053: FutureWarning: You should specify a value for 'cv' instead of relying on the default value. The default value will change from 3 to 5 in version 0.22.\n",
      "  warnings.warn(CV_WARNING, FutureWarning)\n"
     ]
    },
    {
     "name": "stdout",
     "output_type": "stream",
     "text": [
      "Done.\n",
      "Computing data rank from raw with rank='full'\n",
      "    MAG: rank 32 from info\n",
      "Reducing data rank from 32 -> 32\n",
      "Estimating covariance using SHRUNK\n"
     ]
    },
    {
     "name": "stderr",
     "output_type": "stream",
     "text": [
      "F:\\software\\2PYTHON\\lib\\site-packages\\sklearn\\model_selection\\_split.py:2053: FutureWarning: You should specify a value for 'cv' instead of relying on the default value. The default value will change from 3 to 5 in version 0.22.\n",
      "  warnings.warn(CV_WARNING, FutureWarning)\n"
     ]
    },
    {
     "name": "stdout",
     "output_type": "stream",
     "text": [
      "Done.\n",
      "Computing data rank from raw with rank='full'\n",
      "    MAG: rank 32 from info\n",
      "Reducing data rank from 32 -> 32\n",
      "Estimating covariance using SHRUNK\n"
     ]
    },
    {
     "name": "stderr",
     "output_type": "stream",
     "text": [
      "F:\\software\\2PYTHON\\lib\\site-packages\\sklearn\\model_selection\\_split.py:2053: FutureWarning: You should specify a value for 'cv' instead of relying on the default value. The default value will change from 3 to 5 in version 0.22.\n",
      "  warnings.warn(CV_WARNING, FutureWarning)\n"
     ]
    },
    {
     "name": "stdout",
     "output_type": "stream",
     "text": [
      "Done.\n",
      "Computing data rank from raw with rank='full'\n",
      "    MAG: rank 32 from info\n",
      "Reducing data rank from 32 -> 32\n",
      "Estimating covariance using SHRUNK\n"
     ]
    },
    {
     "name": "stderr",
     "output_type": "stream",
     "text": [
      "F:\\software\\2PYTHON\\lib\\site-packages\\sklearn\\model_selection\\_split.py:2053: FutureWarning: You should specify a value for 'cv' instead of relying on the default value. The default value will change from 3 to 5 in version 0.22.\n",
      "  warnings.warn(CV_WARNING, FutureWarning)\n"
     ]
    },
    {
     "name": "stdout",
     "output_type": "stream",
     "text": [
      "Done.\n",
      "Computing data rank from raw with rank='full'\n",
      "    MAG: rank 32 from info\n",
      "Reducing data rank from 32 -> 32\n",
      "Estimating covariance using SHRUNK\n"
     ]
    },
    {
     "name": "stderr",
     "output_type": "stream",
     "text": [
      "F:\\software\\2PYTHON\\lib\\site-packages\\sklearn\\model_selection\\_split.py:2053: FutureWarning: You should specify a value for 'cv' instead of relying on the default value. The default value will change from 3 to 5 in version 0.22.\n",
      "  warnings.warn(CV_WARNING, FutureWarning)\n"
     ]
    },
    {
     "name": "stdout",
     "output_type": "stream",
     "text": [
      "Done.\n",
      "Computing data rank from raw with rank='full'\n",
      "    MAG: rank 32 from info\n",
      "Reducing data rank from 32 -> 32\n",
      "Estimating covariance using SHRUNK\n"
     ]
    },
    {
     "name": "stderr",
     "output_type": "stream",
     "text": [
      "F:\\software\\2PYTHON\\lib\\site-packages\\sklearn\\model_selection\\_split.py:2053: FutureWarning: You should specify a value for 'cv' instead of relying on the default value. The default value will change from 3 to 5 in version 0.22.\n",
      "  warnings.warn(CV_WARNING, FutureWarning)\n"
     ]
    },
    {
     "name": "stdout",
     "output_type": "stream",
     "text": [
      "Done.\n",
      "Computing data rank from raw with rank='full'\n",
      "    MAG: rank 32 from info\n",
      "Reducing data rank from 32 -> 32\n",
      "Estimating covariance using SHRUNK\n"
     ]
    },
    {
     "name": "stderr",
     "output_type": "stream",
     "text": [
      "F:\\software\\2PYTHON\\lib\\site-packages\\sklearn\\model_selection\\_split.py:2053: FutureWarning: You should specify a value for 'cv' instead of relying on the default value. The default value will change from 3 to 5 in version 0.22.\n",
      "  warnings.warn(CV_WARNING, FutureWarning)\n"
     ]
    },
    {
     "name": "stdout",
     "output_type": "stream",
     "text": [
      "Done.\n",
      "Computing data rank from raw with rank='full'\n",
      "    MAG: rank 32 from info\n",
      "Reducing data rank from 32 -> 32\n",
      "Estimating covariance using SHRUNK\n"
     ]
    },
    {
     "name": "stderr",
     "output_type": "stream",
     "text": [
      "F:\\software\\2PYTHON\\lib\\site-packages\\sklearn\\model_selection\\_split.py:2053: FutureWarning: You should specify a value for 'cv' instead of relying on the default value. The default value will change from 3 to 5 in version 0.22.\n",
      "  warnings.warn(CV_WARNING, FutureWarning)\n"
     ]
    },
    {
     "name": "stdout",
     "output_type": "stream",
     "text": [
      "Done.\n",
      "Computing data rank from raw with rank='full'\n",
      "    MAG: rank 32 from info\n",
      "Reducing data rank from 32 -> 32\n",
      "Estimating covariance using SHRUNK\n"
     ]
    },
    {
     "name": "stderr",
     "output_type": "stream",
     "text": [
      "F:\\software\\2PYTHON\\lib\\site-packages\\sklearn\\model_selection\\_split.py:2053: FutureWarning: You should specify a value for 'cv' instead of relying on the default value. The default value will change from 3 to 5 in version 0.22.\n",
      "  warnings.warn(CV_WARNING, FutureWarning)\n"
     ]
    },
    {
     "name": "stdout",
     "output_type": "stream",
     "text": [
      "Done.\n",
      "Computing data rank from raw with rank='full'\n",
      "    MAG: rank 32 from info\n",
      "Reducing data rank from 32 -> 32\n",
      "Estimating covariance using SHRUNK\n"
     ]
    },
    {
     "name": "stderr",
     "output_type": "stream",
     "text": [
      "F:\\software\\2PYTHON\\lib\\site-packages\\sklearn\\model_selection\\_split.py:2053: FutureWarning: You should specify a value for 'cv' instead of relying on the default value. The default value will change from 3 to 5 in version 0.22.\n",
      "  warnings.warn(CV_WARNING, FutureWarning)\n"
     ]
    },
    {
     "name": "stdout",
     "output_type": "stream",
     "text": [
      "Done.\n",
      "Computing data rank from raw with rank='full'\n",
      "    MAG: rank 32 from info\n",
      "Reducing data rank from 32 -> 32\n",
      "Estimating covariance using SHRUNK\n"
     ]
    },
    {
     "name": "stderr",
     "output_type": "stream",
     "text": [
      "F:\\software\\2PYTHON\\lib\\site-packages\\sklearn\\model_selection\\_split.py:2053: FutureWarning: You should specify a value for 'cv' instead of relying on the default value. The default value will change from 3 to 5 in version 0.22.\n",
      "  warnings.warn(CV_WARNING, FutureWarning)\n"
     ]
    },
    {
     "name": "stdout",
     "output_type": "stream",
     "text": [
      "Done.\n",
      "Computing data rank from raw with rank='full'\n",
      "    MAG: rank 32 from info\n",
      "Reducing data rank from 32 -> 32\n",
      "Estimating covariance using SHRUNK\n"
     ]
    },
    {
     "name": "stderr",
     "output_type": "stream",
     "text": [
      "F:\\software\\2PYTHON\\lib\\site-packages\\sklearn\\model_selection\\_split.py:2053: FutureWarning: You should specify a value for 'cv' instead of relying on the default value. The default value will change from 3 to 5 in version 0.22.\n",
      "  warnings.warn(CV_WARNING, FutureWarning)\n"
     ]
    },
    {
     "name": "stdout",
     "output_type": "stream",
     "text": [
      "Done.\n"
     ]
    }
   ],
   "source": [
    "from sklearn.discriminant_analysis import LinearDiscriminantAnalysis\n",
    "from sklearn.model_selection import ShuffleSplit, cross_val_score\n",
    "from sklearn.pipeline import Pipeline\n",
    "lda = LinearDiscriminantAnalysis()\n",
    "clf = Pipeline([('CSP', csp), ('LDA', lda)])\n",
    "cv = ShuffleSplit(10, test_size=0.2, random_state=42)\n",
    "scores = cross_val_score(clf, X_train, y_train, cv=cv, n_jobs=1)"
   ]
  },
  {
   "cell_type": "code",
   "execution_count": 3,
   "metadata": {},
   "outputs": [
    {
     "name": "stdout",
     "output_type": "stream",
     "text": [
      "Computing data rank from raw with rank='full'\n",
      "    MAG: rank 32 from info\n",
      "Reducing data rank from 32 -> 32\n",
      "Estimating covariance using SHRUNK\n"
     ]
    },
    {
     "name": "stderr",
     "output_type": "stream",
     "text": [
      "F:\\software\\2PYTHON\\lib\\site-packages\\sklearn\\model_selection\\_split.py:2053: FutureWarning: You should specify a value for 'cv' instead of relying on the default value. The default value will change from 3 to 5 in version 0.22.\n",
      "  warnings.warn(CV_WARNING, FutureWarning)\n"
     ]
    },
    {
     "name": "stdout",
     "output_type": "stream",
     "text": [
      "Done.\n",
      "Computing data rank from raw with rank='full'\n",
      "    MAG: rank 32 from info\n",
      "Reducing data rank from 32 -> 32\n",
      "Estimating covariance using SHRUNK\n"
     ]
    },
    {
     "name": "stderr",
     "output_type": "stream",
     "text": [
      "F:\\software\\2PYTHON\\lib\\site-packages\\sklearn\\model_selection\\_split.py:2053: FutureWarning: You should specify a value for 'cv' instead of relying on the default value. The default value will change from 3 to 5 in version 0.22.\n",
      "  warnings.warn(CV_WARNING, FutureWarning)\n"
     ]
    },
    {
     "name": "stdout",
     "output_type": "stream",
     "text": [
      "Done.\n"
     ]
    },
    {
     "ename": "NameError",
     "evalue": "name 'LinearDiscriminantAnalysis' is not defined",
     "output_type": "error",
     "traceback": [
      "\u001b[1;31m---------------------------------------------------------------------------\u001b[0m",
      "\u001b[1;31mNameError\u001b[0m                                 Traceback (most recent call last)",
      "\u001b[1;32m<ipython-input-3-156f464673f3>\u001b[0m in \u001b[0;36m<module>\u001b[1;34m\u001b[0m\n\u001b[0;32m      3\u001b[0m \u001b[0mX_tr\u001b[0m\u001b[1;33m=\u001b[0m\u001b[0mcsp\u001b[0m\u001b[1;33m.\u001b[0m\u001b[0mfit_transform\u001b[0m\u001b[1;33m(\u001b[0m\u001b[0mX\u001b[0m\u001b[1;33m,\u001b[0m\u001b[0my\u001b[0m\u001b[1;33m)\u001b[0m\u001b[1;33m\u001b[0m\u001b[1;33m\u001b[0m\u001b[0m\n\u001b[0;32m      4\u001b[0m \u001b[0mX_train\u001b[0m\u001b[1;33m,\u001b[0m \u001b[0mX_test\u001b[0m\u001b[1;33m,\u001b[0m \u001b[0my_train\u001b[0m\u001b[1;33m,\u001b[0m \u001b[0my_test\u001b[0m \u001b[1;33m=\u001b[0m\u001b[0mtrain_test_split\u001b[0m\u001b[1;33m(\u001b[0m\u001b[0mX_tr\u001b[0m\u001b[1;33m,\u001b[0m \u001b[0my\u001b[0m\u001b[1;33m,\u001b[0m \u001b[0mtest_size\u001b[0m\u001b[1;33m=\u001b[0m\u001b[1;36m0.3\u001b[0m\u001b[1;33m,\u001b[0m \u001b[0mrandom_state\u001b[0m\u001b[1;33m=\u001b[0m\u001b[1;36m42\u001b[0m\u001b[1;33m)\u001b[0m\u001b[1;33m\u001b[0m\u001b[1;33m\u001b[0m\u001b[0m\n\u001b[1;32m----> 5\u001b[1;33m \u001b[0mlda\u001b[0m \u001b[1;33m=\u001b[0m \u001b[0mLinearDiscriminantAnalysis\u001b[0m\u001b[1;33m(\u001b[0m\u001b[1;33m)\u001b[0m\u001b[1;33m\u001b[0m\u001b[1;33m\u001b[0m\u001b[0m\n\u001b[0m\u001b[0;32m      6\u001b[0m \u001b[0mscores\u001b[0m \u001b[1;33m=\u001b[0m \u001b[0mcross_val_score\u001b[0m\u001b[1;33m(\u001b[0m\u001b[0mlda\u001b[0m\u001b[1;33m,\u001b[0m \u001b[0mX_tr\u001b[0m\u001b[1;33m,\u001b[0m\u001b[0my\u001b[0m\u001b[1;33m,\u001b[0m \u001b[0mcv\u001b[0m\u001b[1;33m=\u001b[0m\u001b[1;36m5\u001b[0m\u001b[1;33m)\u001b[0m\u001b[1;33m\u001b[0m\u001b[1;33m\u001b[0m\u001b[0m\n\u001b[0;32m      7\u001b[0m \u001b[1;31m# lda.fit(X_train,y_train)\u001b[0m\u001b[1;33m\u001b[0m\u001b[1;33m\u001b[0m\u001b[1;33m\u001b[0m\u001b[0m\n",
      "\u001b[1;31mNameError\u001b[0m: name 'LinearDiscriminantAnalysis' is not defined"
     ]
    }
   ],
   "source": [
    "from  sklearn.model_selection import train_test_split\n",
    "csp = CSP(n_components=4,reg='shrunk',cov_est='concat',rank='full')\n",
    "X_tr=csp.fit_transform(X,y)\n",
    "X_train, X_test, y_train, y_test =train_test_split(X_tr, y, test_size=0.3, random_state=42)\n",
    "lda = LinearDiscriminantAnalysis()\n",
    "scores = cross_val_score(lda, X_tr,y, cv=5)\n",
    "# lda.fit(X_train,y_train)\n",
    "# lda.score(X_test,y_test)"
   ]
  },
  {
   "cell_type": "code",
   "execution_count": 5,
   "metadata": {},
   "outputs": [
    {
     "data": {
      "text/plain": [
       "0.7497994987468672"
      ]
     },
     "execution_count": 5,
     "metadata": {},
     "output_type": "execute_result"
    }
   ],
   "source": [
    "# Training accuracy\n",
    "from sklearn.discriminant_analysis import LinearDiscriminantAnalysis\n",
    "from sklearn.model_selection import ShuffleSplit, cross_val_score\n",
    "lda = LinearDiscriminantAnalysis()\n",
    "scores = cross_val_score(lda, X_tr,y, cv=5)\n",
    "scores.mean()"
   ]
  },
  {
   "cell_type": "code",
   "execution_count": 6,
   "metadata": {},
   "outputs": [
    {
     "name": "stdout",
     "output_type": "stream",
     "text": [
      "Extracting parameters from F:\\software\\1NE_NIC2\\raw\\MI10Oct_and8_oneCmc\\zzl2Session2.set...\n",
      "100 matching events found\n",
      "No baseline correction applied\n",
      "Not setting metadata\n"
     ]
    },
    {
     "name": "stderr",
     "output_type": "stream",
     "text": [
      "<ipython-input-6-3aacc9f69f6b>:8: RuntimeWarning: At least one epoch has multiple events. Only the latency of the first event will be retained.\n",
      "  montage=montage_NE)\n"
     ]
    },
    {
     "name": "stdout",
     "output_type": "stream",
     "text": [
      "0 projection items activated\n",
      "Ready.\n",
      "Computing data rank from raw with rank='full'\n",
      "    MAG: rank 32 from info\n",
      "Reducing data rank from 32 -> 32\n",
      "Estimating covariance using SHRUNK\n"
     ]
    },
    {
     "name": "stderr",
     "output_type": "stream",
     "text": [
      "F:\\software\\2PYTHON\\lib\\site-packages\\sklearn\\model_selection\\_split.py:2053: FutureWarning: You should specify a value for 'cv' instead of relying on the default value. The default value will change from 3 to 5 in version 0.22.\n",
      "  warnings.warn(CV_WARNING, FutureWarning)\n"
     ]
    },
    {
     "name": "stdout",
     "output_type": "stream",
     "text": [
      "Done.\n",
      "Computing data rank from raw with rank='full'\n",
      "    MAG: rank 32 from info\n",
      "Reducing data rank from 32 -> 32\n",
      "Estimating covariance using SHRUNK\n"
     ]
    },
    {
     "name": "stderr",
     "output_type": "stream",
     "text": [
      "F:\\software\\2PYTHON\\lib\\site-packages\\sklearn\\model_selection\\_split.py:2053: FutureWarning: You should specify a value for 'cv' instead of relying on the default value. The default value will change from 3 to 5 in version 0.22.\n",
      "  warnings.warn(CV_WARNING, FutureWarning)\n"
     ]
    },
    {
     "name": "stdout",
     "output_type": "stream",
     "text": [
      "Done.\n"
     ]
    }
   ],
   "source": [
    "import mne\n",
    "from mne.decoding import CSP\n",
    "import pandas\n",
    "import numpy as np\n",
    "#Using locs to read montage\n",
    "montage_NE = mne.channels.read_montage(kind='Enobio32',path=r'F:\\software\\1NE_NIC2\\1channelL')\n",
    "epochs_zzl2Session2 = mne.io.read_epochs_eeglab(input_fname=r'F:\\software\\1NE_NIC2\\raw\\MI10Oct_and8_oneCmc\\zzl2Session2.set',\n",
    "                             montage=montage_NE)\n",
    "# %matplotlib qt\n",
    "# epochs_zzl2Session1.plot()\n",
    "MI_epochs = epochs_zzl2Session1.copy()\n",
    "MI_epochs.crop(tmin = 3, tmax = 7)\n",
    "# MI_epochs.plot()\n",
    "\n",
    "y_tr = pandas.read_csv('F:/software/1NE_NIC2/raw/MI10Oct_and8_oneCmc/100times_test_section2.csv')\n",
    "labels=y.iloc[1:101, 2]\n",
    "y=np.array([])\n",
    "for label in labels:\n",
    "    if label == 'left':\n",
    "        y=np.append(y,1)\n",
    "    else:\n",
    "        y=np.append(y,0)\n",
    "\n",
    "X=MI_epochs.get_data()\n",
    "csp = CSP(n_components=4,reg='shrunk',cov_est='concat',rank ='full')\n",
    "\n",
    "X_trS2=csp.fit_transform(X,y)"
   ]
  },
  {
   "cell_type": "code",
   "execution_count": 19,
   "metadata": {},
   "outputs": [
    {
     "data": {
      "text/plain": [
       "0.55"
      ]
     },
     "execution_count": 19,
     "metadata": {},
     "output_type": "execute_result"
    }
   ],
   "source": [
    "# Used first exp as training data, second as test data\n",
    "y = pandas.read_csv('F:/software/1NE_NIC2/raw/MI10Oct_and8_oneCmc/100times_test_section1.csv')\n",
    "labels=y.iloc[1:101, 2]\n",
    "y=np.array([])\n",
    "for label in labels:\n",
    "    if label == 'left':\n",
    "        y=np.append(y,1)\n",
    "    else:\n",
    "        y=np.append(y,0)\n",
    "\n",
    "        \n",
    "y2 = pandas.read_csv('F:/software/1NE_NIC2/raw/MI10Oct_and8_oneCmc/100times_test_section2.csv')\n",
    "labels=y2.iloc[1:101, 2]\n",
    "y2=np.array([])\n",
    "for label in labels:\n",
    "    if label == 'left':\n",
    "        y2=np.append(y2,1)\n",
    "    else:\n",
    "        y2=np.append(y2,0)\n",
    "        \n",
    "lda.fit(X_tr,y)\n",
    "lda.score(X_trS2,y2)"
   ]
  },
  {
   "cell_type": "code",
   "execution_count": 35,
   "metadata": {},
   "outputs": [
    {
     "data": {
      "text/plain": [
       "0.6166666666666667"
      ]
     },
     "execution_count": 35,
     "metadata": {},
     "output_type": "execute_result"
    }
   ],
   "source": [
    "# Mixing data set\n",
    "X_total = np.vstack((X_tr,X_trS2))\n",
    "y_total=np.append(y,y2)\n",
    "X_train, X_test, y_train, y_test =train_test_split(X_total, y_total, test_size=0.3, random_state=42)\n",
    "lda.fit(X_train,y_train)\n",
    "lda.score(X_test,y_test)"
   ]
  },
  {
   "cell_type": "code",
   "execution_count": null,
   "metadata": {},
   "outputs": [],
   "source": []
  }
 ],
 "metadata": {
  "kernelspec": {
   "display_name": "Python 3",
   "language": "python",
   "name": "python3"
  },
  "language_info": {
   "codemirror_mode": {
    "name": "ipython",
    "version": 3
   },
   "file_extension": ".py",
   "mimetype": "text/x-python",
   "name": "python",
   "nbconvert_exporter": "python",
   "pygments_lexer": "ipython3",
   "version": "3.7.3"
  }
 },
 "nbformat": 4,
 "nbformat_minor": 2
}

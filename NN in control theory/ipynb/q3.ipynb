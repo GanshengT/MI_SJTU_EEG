{
 "cells": [
  {
   "cell_type": "markdown",
   "metadata": {},
   "source": [
    "# Specification of the Genetic algorithm\n",
    "## Parameters: \n",
    "- the dimension of fitness should be population size \n",
    "- there are five inequality constrains\n",
    "- mutation probability: mp (0.59)\n",
    "- crossover probability: cp (0.15)\n",
    "- number of parents at each iteration: num_parents (tested with 6)"
   ]
  },
  {
   "cell_type": "code",
   "execution_count": 69,
   "metadata": {},
   "outputs": [],
   "source": [
    "import numpy as np\n",
    "from IPython.core.debugger import set_trace\n",
    "def cal_pop_fitness(pop):\n",
    "    # Calculating the fitness value of each solution in the current population.\n",
    "    # The fitness function caulcuates the sum of products between each input and its corresponding weight.\n",
    "    fitness = [-(1060-pop_i[0]**2-4*pop_i[1]**2-pop_i[2]**2-pop_i[0]*pop_i[1]-pop_i[0]*pop_i[2]) for pop_i in pop]\n",
    "    return np.array(fitness) #\n",
    "\n",
    "def cal_pop_cv(pop):\n",
    "    epislon = 10\n",
    "    nv = np.zeros(pop.shape[0])\n",
    "    cv = np.zeros(pop.shape[0])\n",
    "    for i in range(pop.shape[0]):\n",
    "        for j in range(pop.shape[1]):\n",
    "            if pop[i][j]<0:\n",
    "                nv[i]+=1\n",
    "                cv[i] += np.abs(pop[i][j])\n",
    "        if np.abs(np.sum(pop[i]**2)-35)>epislon:\n",
    "            nv[i]+=1\n",
    "            cv[i]+=np.abs(np.sum(pop[i]**2)-35)\n",
    "        if np.abs(np.dot(np.array([10,13,7]),pop[i])-65)>epislon:\n",
    "            nv[i]+=1\n",
    "            cv[i]+=np.abs(np.dot(np.array([10,13,7]),pop[i])-65)\n",
    "    return nv,cv\n",
    "\n",
    "def select_mating_pool(pop, fitness, nv,cv,num_parents):\n",
    "    # Selecting the best individuals in the current generation as parents for producing the offspring of the next generation.\n",
    "    # seperate the pop into constrains satisfied group and unsatsfied group\n",
    "    pop_stsfd_idx = np.where(nv==0)[0]\n",
    "    pop_unstsfd_idx = np.where(nv!=0)[0]\n",
    "    parents = np.empty((num_parents, pop.shape[1]))\n",
    "#     set_trace()\n",
    "    if num_parents <=len(pop_stsfd_idx): # we have enough constrains satisfied candidates\n",
    "        for parent_num in range(num_parents):\n",
    "            max_fitness_idx = np.where(fitness == np.max(fitness))\n",
    "            max_fitness_idx = max_fitness_idx[0][0]\n",
    "            parents[parent_num, :] = pop[max_fitness_idx, :]\n",
    "            fitness[max_fitness_idx] = -99999999999\n",
    "    else:\n",
    "        nv_threshold = 1\n",
    "        while num_parents > len(np.where(nv<=nv_threshold)[0]):\n",
    "            nv_threshold+=1\n",
    "        if len(np.where(nv<=nv_threshold-1)[0])!=0:\n",
    "            for i in range(len(np.where(nv<=nv_threshold-1)[0])):\n",
    "                min_nv_idx = np.where(nv == np.min(nv))\n",
    "                min_nv_idx = min_nv_idx[0][0]\n",
    "                parents[i, :] = pop[min_nv_idx, :]\n",
    "                nv[min_nv_idx] = 99\n",
    "        num_parents_needed = num_parents - len(np.where(nv<=nv_threshold-1)[0])\n",
    "        nv_threshold_idx = np.where(nv == nv_threshold)[0]\n",
    "        pop_nv_equals_threshold = pop[nv_threshold_idx]\n",
    "        fitness_nv_equals_threshold = fitness[nv_threshold_idx]\n",
    "        for parent_needed in range(num_parents_needed):\n",
    "            max_fitness_idx = np.where(fitness_nv_equals_threshold == np.max(fitness_nv_equals_threshold))\n",
    "            max_fitness_idx = max_fitness_idx[0][0]\n",
    "            parents[len(np.where(nv<=nv_threshold-1)[0])+parent_needed, :] = pop_nv_equals_threshold[max_fitness_idx, :]\n",
    "            fitness_nv_equals_threshold [max_fitness_idx] = -99999999999\n",
    "    return parents\n",
    "\n",
    "\n",
    "\n",
    "def crossover(parents, offspring_size,cp):\n",
    "    offspring = np.empty(offspring_size)\n",
    "    # The point at which crossover takes place between two parents. Usually it is at the center.\n",
    "    crossover_point = np.uint8(offspring_size[1]/2)\n",
    "\n",
    "    for k in range(offspring_size[0]):\n",
    "        cs_succeed = np.random.uniform(low=0, high=1)\n",
    "        if cs_succeed >= cp:\n",
    "            # Index of the first parent to mate.\n",
    "            parent1_idx = k%parents.shape[0]\n",
    "            # Index of the second parent to mate.\n",
    "            parent2_idx = (k+1)%parents.shape[0]\n",
    "            # The new offspring will have its first half of its genes taken from the first parent.\n",
    "            offspring[k, 0:crossover_point] = parents[parent1_idx, 0:crossover_point]\n",
    "            # The new offspring will have its second half of its genes taken from the second parent.\n",
    "            offspring[k, crossover_point:] = parents[parent2_idx, crossover_point:]\n",
    "        else:\n",
    "            parent1_idx = k%parents.shape[0]\n",
    "            offspring[k,:] = parents[parent1_idx]\n",
    "    return offspring\n",
    "\n",
    "def mutation(pop,mp):\n",
    "    # Mutation changes a single gene in each individual of the current population randomly.\n",
    "    # mp stands for mutation probability\n",
    "    for idx in range(pop.shape[0]):\n",
    "        for var_idx in range(pop.shape[1]):\n",
    "            mt_succeed = np.random.uniform(low=0, high=1)\n",
    "            if mt_succeed >= mp: \n",
    "                # The random value to be added to the gene.\n",
    "                random_value = np.random.uniform(-0.5, 0.5, 1)\n",
    "                pop[idx, var_idx] = pop[idx, var_idx] + random_value\n",
    "    return pop\n"
   ]
  },
  {
   "cell_type": "markdown",
   "metadata": {},
   "source": [
    "# Define the GA process"
   ]
  },
  {
   "cell_type": "code",
   "execution_count": 168,
   "metadata": {},
   "outputs": [],
   "source": [
    "def ga(pop, num_generations,num_parents):\n",
    "    import numpy as np\n",
    "    pop_history =[]\n",
    "    fitness_history = []\n",
    "    nv_history = []\n",
    "    cv_history =[]\n",
    "    for generation in range(num_generations):\n",
    "        fitness = cal_pop_fitness(pop)\n",
    "        nv,cv = cal_pop_cv(pop)\n",
    "        parents=select_mating_pool(pop,fitness,nv,cv,num_parents)\n",
    "        offspring_crossover = crossover(parents,offspring_size=(pop_size-parents.shape[0], num_var),cp = 0.59)\n",
    "        offspring_crossover = mutation(offspring_crossover,mp =0.15)\n",
    "        pop = np.empty(pop.shape)\n",
    "        pop[0:parents.shape[0], :] = parents\n",
    "        pop[parents.shape[0]:, :] = offspring_crossover\n",
    "#         pop = mutation(pop,mp =0.15)\n",
    "        pop_history.append(pop)\n",
    "        fitness = -cal_pop_fitness(pop)\n",
    "        best_idx = np.where(fitness == np.max(fitness))\n",
    "        fitness_history.append(fitness[best_idx[0][0]])\n",
    "        nv_history.append(nv[best_idx[0][0]])\n",
    "        cv_history.append(cv[best_idx[0][0]])\n",
    "    fitness = -cal_pop_fitness(pop)\n",
    "    best_idx = np.where(fitness == np.max(fitness))\n",
    "    return pop[best_idx[0][0]],fitness[best_idx[0][0]],pop_history,fitness_history,nv_history,cv_history\n",
    "\n"
   ]
  },
  {
   "cell_type": "markdown",
   "metadata": {},
   "source": [
    "# main function and animation"
   ]
  },
  {
   "cell_type": "code",
   "execution_count": 171,
   "metadata": {},
   "outputs": [
    {
     "name": "stdout",
     "output_type": "stream",
     "text": [
      "903.7001175472127\n"
     ]
    }
   ],
   "source": [
    "import numpy as np\n",
    "pop_size = 40\n",
    "num_var = 3 # x1,x2, x3\n",
    "init_pop = np.random.uniform(low=0, high=4, size=(pop_size,num_var))\n",
    "best_var, objective, pop_history, fitness_history,nv_history,cv_history = ga(init_pop,800,6)\n",
    "print(objective)"
   ]
  },
  {
   "cell_type": "code",
   "execution_count": 173,
   "metadata": {},
   "outputs": [],
   "source": [
    "import matplotlib.pyplot as plt\n",
    "x = range(len(fitness_history))\n",
    "# plt.scatter(x,nv_history,  color='blue',linewidths=0.01)\n",
    "# plt.title('N.V. tendency')\n",
    "# plt.xlabel('iterations')\n",
    "# plt.ylabel('number of constrain violations')\n",
    "# fig= plt.gcf()\n",
    "# fig.set_size_inches(12,4)\n",
    "\n",
    "plt.plot(x,cv_history,  color='blue',linewidth=0.5)\n",
    "plt.title('C.V. tendency')\n",
    "plt.xlabel('iterations')\n",
    "plt.ylabel('constrain violations')\n",
    "fig= plt.gcf()\n",
    "fig.set_size_inches(12,4)\n",
    "\n",
    "# plt.plot(x,nv_history, marker='', color='olive', linewidth=2)\n",
    "# plt.plot( x,cv_history, marker='', color='olive', linewidth=2, linestyle='dashed', label=\"toto\")\n",
    "# fig.legend()\n"
   ]
  },
  {
   "cell_type": "code",
   "execution_count": 164,
   "metadata": {},
   "outputs": [
    {
     "name": "stderr",
     "output_type": "stream",
     "text": [
      "F:\\software\\2PYTHON\\envs\\deepLearning\\lib\\site-packages\\ipykernel_launcher.py:20: RuntimeWarning: invalid value encountered in sqrt\n",
      "F:\\software\\2PYTHON\\envs\\deepLearning\\lib\\site-packages\\ipykernel_launcher.py:36: UserWarning: Z contains NaN values. This may result in rendering artifacts.\n",
      "F:\\software\\2PYTHON\\envs\\deepLearning\\lib\\site-packages\\ipykernel_launcher.py:22: RuntimeWarning: invalid value encountered in sqrt\n",
      "F:\\software\\2PYTHON\\envs\\deepLearning\\lib\\site-packages\\ipykernel_launcher.py:42: UserWarning: Z contains NaN values. This may result in rendering artifacts.\n"
     ]
    }
   ],
   "source": [
    "# animation\n",
    "from mpl_toolkits.mplot3d import Axes3D\n",
    "import matplotlib.animation as animation\n",
    "import seaborn as sns\n",
    "\n",
    "def animate_scatters(iteration, data, scatters):\n",
    "    \"\"\"\n",
    "    Update the data held by the scatter plot and therefore animates it.\n",
    "    Args:\n",
    "        iteration (int): Current iteration of the animation\n",
    "        data (list): List of the data positions at each iteration.\n",
    "        scatters (list): List of all the scatters (One per element)\n",
    "    Returns:\n",
    "        list: List of scatters (One per element) with new coordinates\n",
    "    \"\"\"\n",
    "    for i in range(data[0].shape[0]):\n",
    "        scatters[i]._offsets3d = (data[iteration][i,0:1], data[iteration][i,1:2], data[iteration][i,2:])\n",
    "    return scatters\n",
    "def constrain1 (x,y):\n",
    "    return np.sqrt(35-x**2-y**2)\n",
    "def constrain2 (x,y):\n",
    "    return -np.sqrt(35-x**2-y**2)\n",
    "\n",
    "fig = plt.figure(figsize=(10,6))\n",
    "ax = fig.add_subplot(111, projection='3d')\n",
    "ax.set_xlabel('x1')\n",
    "ax.set_ylabel('x2')\n",
    "ax.set_zlabel('x3')\n",
    "ax.set_xlim3d([-4, 4])\n",
    "ax.set_ylim3d([-4, 4])\n",
    "ax.set_zlim3d([-4, 4])\n",
    "x =y= np.linspace(-4.2,4.2)\n",
    "X, Y = np.meshgrid(x, y)\n",
    "zs = np.array(constrain1(np.ravel(X), np.ravel(Y)))\n",
    "Z = zs.reshape(X.shape)\n",
    "ax.plot_surface(X, Y, Z)\n",
    "# next sphere\n",
    "x =y= np.linspace(-4.2,4.2)\n",
    "X, Y = np.meshgrid(x, y)\n",
    "zs = np.array(constrain2(np.ravel(X), np.ravel(Y)))\n",
    "Z = zs.reshape(X.shape)\n",
    "ax.plot_surface(X, Y, Z)\n",
    "ax.set_title('Population evolution',fontsize=20)\n",
    "scatters = [ax.scatter(pop_history[0][i,0],pop_history[0][i,1],pop_history[0][i,2], c='skyblue',s=60) for i in range(pop_history[0].shape[0])]\n",
    "iterations = len(pop_history)\n",
    "ni = animation.FuncAnimation(fig, animate_scatters, iterations, fargs=(pop_history, scatters),\n",
    "                                       interval=10, blit=False, repeat=True)\n",
    "plt.show()"
   ]
  },
  {
   "cell_type": "code",
   "execution_count": 155,
   "metadata": {},
   "outputs": [
    {
     "data": {
      "text/plain": [
       "array([5.74456265, 5.75846623, 5.77175908, 5.78444539, 5.79652914,\n",
       "       5.80801411, 5.81890383, 5.82920165, 5.83891068, 5.84803388,\n",
       "       5.85657396, 5.86453349, 5.87191481, 5.87872012, 5.88495141,\n",
       "       5.89061049, 5.89569902, 5.90021848, 5.90417016, 5.90755522,\n",
       "       5.91037462, 5.91262917, 5.91431952, 5.91544615, 5.91600938,\n",
       "       5.91600938, 5.91544615, 5.91431952, 5.91262917, 5.91037462,\n",
       "       5.90755522, 5.90417016, 5.90021848, 5.89569902, 5.89061049,\n",
       "       5.88495141, 5.87872012, 5.87191481, 5.86453349, 5.85657396,\n",
       "       5.84803388, 5.83891068, 5.82920165, 5.81890383, 5.80801411,\n",
       "       5.79652914, 5.78444539, 5.77175908, 5.75846623, 5.74456265])"
      ]
     },
     "execution_count": 155,
     "metadata": {},
     "output_type": "execute_result"
    }
   ],
   "source": [
    "x = np.linspace(-1,1)\n",
    "y=np.linspace(-1,1)\n",
    "z=np.sqrt(35-x**2-y**2)\n",
    "z"
   ]
  },
  {
   "cell_type": "code",
   "execution_count": 66,
   "metadata": {},
   "outputs": [
    {
     "data": {
      "text/plain": [
       "array([[ 4.44574992,  4.45288134,  1.83606088],\n",
       "       [ 1.41518531,  4.94523046,  4.9625359 ],\n",
       "       [ 2.92276199,  4.1782813 ,  3.76001318],\n",
       "       [ 0.15202501,  4.81626271,  4.90875922],\n",
       "       [ 2.76744925,  4.6906161 ,  2.03764093],\n",
       "       [ 4.94969121,  4.17883073, -0.33239069],\n",
       "       [ 4.80089382,  4.85023526,  1.1214722 ],\n",
       "       [ 1.4448909 ,  5.22778234,  5.23864391],\n",
       "       [ 3.74266676,  4.64369814,  3.95445414],\n",
       "       [-0.17009137,  4.84084356,  4.27952483],\n",
       "       [ 2.01685722,  3.69667677,  0.19297276],\n",
       "       [ 4.2224136 ,  4.53929843,  1.75586353],\n",
       "       [ 4.68316492,  4.67496185,  1.41873379],\n",
       "       [ 0.99484798,  4.78042458,  4.48121127],\n",
       "       [ 3.54600128,  4.16409903,  3.73089299],\n",
       "       [ 0.25135862,  5.22155231,  2.56946487],\n",
       "       [ 2.10514049,  4.40932123,  2.19379807],\n",
       "       [ 4.51034573,  3.9265677 , -0.14306027],\n",
       "       [ 5.12687259,  5.08819718,  4.63715109],\n",
       "       [ 0.89026651,  4.78042458,  5.12572978],\n",
       "       [ 3.39443511,  3.89094536,  3.75835859],\n",
       "       [ 0.31306345,  5.23493833,  2.19379807],\n",
       "       [ 2.87578597,  4.8079689 ,  1.8647747 ],\n",
       "       [ 4.16406227,  3.99916049, -0.35835076],\n",
       "       [ 4.61239018,  5.05923077,  1.4443857 ],\n",
       "       [ 1.28679534,  4.93080413,  5.34226093],\n",
       "       [ 3.11899352,  3.77384979,  4.08267325],\n",
       "       [ 0.15202501,  4.4641279 ,  4.69957555],\n",
       "       [ 2.44718351,  4.14783697, -0.01847242],\n",
       "       [ 4.62183164,  4.61401402,  1.41873379],\n",
       "       [ 4.46758182,  4.68833133,  1.68383204],\n",
       "       [ 1.35829816,  4.78042458,  4.86081179],\n",
       "       [ 3.71888402,  3.76249823,  3.95445414],\n",
       "       [ 0.12555143,  4.5234618 ,  2.50449544],\n",
       "       [ 2.41592014,  5.09834622,  2.66166487],\n",
       "       [ 4.96044314,  3.99916049, -0.18390236],\n",
       "       [ 4.56465982,  4.84158344,  4.78989505],\n",
       "       [ 1.38907408,  4.22529206,  3.95445414],\n",
       "       [ 3.84799779,  3.86896583,  3.55761292],\n",
       "       [ 0.31623752,  5.24915365,  5.20095271]])"
      ]
     },
     "execution_count": 66,
     "metadata": {},
     "output_type": "execute_result"
    }
   ],
   "source": [
    "# Scripts cell\n",
    "import numpy as np\n",
    "pop_size = 40\n",
    "num_var = 3 # x1,x2, x3\n",
    "init_pop = np.random.uniform(low=0, high=5, size=(pop_size,num_var))\n",
    "nv,cv = cal_pop_cv(init_pop)\n",
    "fitness = cal_pop_fitness(init_pop)\n",
    "parents=select_mating_pool(init_pop,fitness,nv,cv,6)\n",
    "offspring_crossover = crossover(parents,offspring_size=(pop_size-parents.shape[0], num_var),cp = 0.59)\n",
    "pop = np.empty((pop_size,num_var))\n",
    "pop[0:parents.shape[0], :] = parents\n",
    "pop[parents.shape[0]:, :] = offspring_crossover\n",
    "mutation(pop,mp =0.15)\n",
    "# cal_pop_fitness(pop)"
   ]
  }
 ],
 "metadata": {
  "kernelspec": {
   "display_name": "Python 3",
   "language": "python",
   "name": "python3"
  },
  "language_info": {
   "codemirror_mode": {
    "name": "ipython",
    "version": 3
   },
   "file_extension": ".py",
   "mimetype": "text/x-python",
   "name": "python",
   "nbconvert_exporter": "python",
   "pygments_lexer": "ipython3",
   "version": "3.7.1"
  }
 },
 "nbformat": 4,
 "nbformat_minor": 4
}
